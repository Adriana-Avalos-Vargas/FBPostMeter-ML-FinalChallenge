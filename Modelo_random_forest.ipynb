{
 "cells": [
  {
   "cell_type": "code",
   "execution_count": 2,
   "metadata": {},
   "outputs": [],
   "source": [
    "# Importamos las librerías \n",
    "import numpy as np \n",
    "import pandas as pd\n",
    "from sklearn.tree import DecisionTreeClassifier\n",
    "\n",
    "from sklearn import tree\n"
   ]
  },
  {
   "cell_type": "code",
   "execution_count": 3,
   "metadata": {},
   "outputs": [
    {
     "data": {
      "text/html": [
       "<div>\n",
       "<style scoped>\n",
       "    .dataframe tbody tr th:only-of-type {\n",
       "        vertical-align: middle;\n",
       "    }\n",
       "\n",
       "    .dataframe tbody tr th {\n",
       "        vertical-align: top;\n",
       "    }\n",
       "\n",
       "    .dataframe thead th {\n",
       "        text-align: right;\n",
       "    }\n",
       "</style>\n",
       "<table border=\"1\" class=\"dataframe\">\n",
       "  <thead>\n",
       "    <tr style=\"text-align: right;\">\n",
       "      <th></th>\n",
       "      <th>Page.total.likes</th>\n",
       "      <th>Type</th>\n",
       "      <th>Category</th>\n",
       "      <th>Post.Month</th>\n",
       "      <th>Post.Weekday</th>\n",
       "      <th>Post.Hour</th>\n",
       "      <th>Paid</th>\n",
       "      <th>LPost.Tot.Reach</th>\n",
       "      <th>LPost.Tot.Impressions</th>\n",
       "      <th>Lifetime.Engaged.Users</th>\n",
       "      <th>LPost.Consumers</th>\n",
       "      <th>LPost.Consumptions</th>\n",
       "      <th>LPost.Liked.Page.Impressions</th>\n",
       "      <th>LPost.Liked.Page.Reach</th>\n",
       "      <th>LPeople.Post.Like...Engange</th>\n",
       "      <th>comment</th>\n",
       "      <th>like</th>\n",
       "      <th>share</th>\n",
       "      <th>Total.Interactions</th>\n",
       "      <th>Clus_km</th>\n",
       "    </tr>\n",
       "  </thead>\n",
       "  <tbody>\n",
       "    <tr>\n",
       "      <th>0</th>\n",
       "      <td>139441</td>\n",
       "      <td>Photo</td>\n",
       "      <td>2</td>\n",
       "      <td>12</td>\n",
       "      <td>4</td>\n",
       "      <td>3</td>\n",
       "      <td>0</td>\n",
       "      <td>2752</td>\n",
       "      <td>5091</td>\n",
       "      <td>178</td>\n",
       "      <td>109</td>\n",
       "      <td>159</td>\n",
       "      <td>3078</td>\n",
       "      <td>1640</td>\n",
       "      <td>119</td>\n",
       "      <td>4</td>\n",
       "      <td>79</td>\n",
       "      <td>17</td>\n",
       "      <td>100</td>\n",
       "      <td>0</td>\n",
       "    </tr>\n",
       "    <tr>\n",
       "      <th>1</th>\n",
       "      <td>139441</td>\n",
       "      <td>Status</td>\n",
       "      <td>2</td>\n",
       "      <td>12</td>\n",
       "      <td>3</td>\n",
       "      <td>10</td>\n",
       "      <td>0</td>\n",
       "      <td>10460</td>\n",
       "      <td>19057</td>\n",
       "      <td>1457</td>\n",
       "      <td>1361</td>\n",
       "      <td>1674</td>\n",
       "      <td>11710</td>\n",
       "      <td>6112</td>\n",
       "      <td>1108</td>\n",
       "      <td>5</td>\n",
       "      <td>130</td>\n",
       "      <td>29</td>\n",
       "      <td>164</td>\n",
       "      <td>0</td>\n",
       "    </tr>\n",
       "    <tr>\n",
       "      <th>2</th>\n",
       "      <td>139441</td>\n",
       "      <td>Photo</td>\n",
       "      <td>3</td>\n",
       "      <td>12</td>\n",
       "      <td>3</td>\n",
       "      <td>3</td>\n",
       "      <td>0</td>\n",
       "      <td>2413</td>\n",
       "      <td>4373</td>\n",
       "      <td>177</td>\n",
       "      <td>113</td>\n",
       "      <td>154</td>\n",
       "      <td>2812</td>\n",
       "      <td>1503</td>\n",
       "      <td>132</td>\n",
       "      <td>0</td>\n",
       "      <td>66</td>\n",
       "      <td>14</td>\n",
       "      <td>80</td>\n",
       "      <td>0</td>\n",
       "    </tr>\n",
       "    <tr>\n",
       "      <th>3</th>\n",
       "      <td>139441</td>\n",
       "      <td>Photo</td>\n",
       "      <td>2</td>\n",
       "      <td>12</td>\n",
       "      <td>2</td>\n",
       "      <td>10</td>\n",
       "      <td>1</td>\n",
       "      <td>50128</td>\n",
       "      <td>87991</td>\n",
       "      <td>2211</td>\n",
       "      <td>790</td>\n",
       "      <td>1119</td>\n",
       "      <td>61027</td>\n",
       "      <td>32048</td>\n",
       "      <td>1386</td>\n",
       "      <td>58</td>\n",
       "      <td>1572</td>\n",
       "      <td>147</td>\n",
       "      <td>1777</td>\n",
       "      <td>1</td>\n",
       "    </tr>\n",
       "    <tr>\n",
       "      <th>4</th>\n",
       "      <td>139441</td>\n",
       "      <td>Photo</td>\n",
       "      <td>2</td>\n",
       "      <td>12</td>\n",
       "      <td>2</td>\n",
       "      <td>3</td>\n",
       "      <td>0</td>\n",
       "      <td>7244</td>\n",
       "      <td>13594</td>\n",
       "      <td>671</td>\n",
       "      <td>410</td>\n",
       "      <td>580</td>\n",
       "      <td>6228</td>\n",
       "      <td>3200</td>\n",
       "      <td>396</td>\n",
       "      <td>19</td>\n",
       "      <td>325</td>\n",
       "      <td>49</td>\n",
       "      <td>393</td>\n",
       "      <td>1</td>\n",
       "    </tr>\n",
       "  </tbody>\n",
       "</table>\n",
       "</div>"
      ],
      "text/plain": [
       "   Page.total.likes    Type  Category  Post.Month  Post.Weekday  Post.Hour  \\\n",
       "0            139441   Photo         2          12             4          3   \n",
       "1            139441  Status         2          12             3         10   \n",
       "2            139441   Photo         3          12             3          3   \n",
       "3            139441   Photo         2          12             2         10   \n",
       "4            139441   Photo         2          12             2          3   \n",
       "\n",
       "   Paid  LPost.Tot.Reach  LPost.Tot.Impressions  Lifetime.Engaged.Users  \\\n",
       "0     0             2752                   5091                     178   \n",
       "1     0            10460                  19057                    1457   \n",
       "2     0             2413                   4373                     177   \n",
       "3     1            50128                  87991                    2211   \n",
       "4     0             7244                  13594                     671   \n",
       "\n",
       "   LPost.Consumers  LPost.Consumptions  LPost.Liked.Page.Impressions  \\\n",
       "0              109                 159                          3078   \n",
       "1             1361                1674                         11710   \n",
       "2              113                 154                          2812   \n",
       "3              790                1119                         61027   \n",
       "4              410                 580                          6228   \n",
       "\n",
       "   LPost.Liked.Page.Reach  LPeople.Post.Like...Engange  comment  like  share  \\\n",
       "0                    1640                          119        4    79     17   \n",
       "1                    6112                         1108        5   130     29   \n",
       "2                    1503                          132        0    66     14   \n",
       "3                   32048                         1386       58  1572    147   \n",
       "4                    3200                          396       19   325     49   \n",
       "\n",
       "   Total.Interactions  Clus_km  \n",
       "0                 100        0  \n",
       "1                 164        0  \n",
       "2                  80        0  \n",
       "3                1777        1  \n",
       "4                 393        1  "
      ]
     },
     "execution_count": 3,
     "metadata": {},
     "output_type": "execute_result"
    }
   ],
   "source": [
    "#Call the database\n",
    "\n",
    "wd = \"facebook_mock.csv\"\n",
    "\n",
    "df = pd.read_csv(wd)\n",
    "df.head()"
   ]
  },
  {
   "cell_type": "code",
   "execution_count": 4,
   "metadata": {},
   "outputs": [
    {
     "data": {
      "text/plain": [
       "['Page.total.likes',\n",
       " 'Type',\n",
       " 'Category',\n",
       " 'Post.Month',\n",
       " 'Post.Weekday',\n",
       " 'Post.Hour',\n",
       " 'Paid',\n",
       " 'LPost.Tot.Reach',\n",
       " 'LPost.Tot.Impressions',\n",
       " 'Lifetime.Engaged.Users',\n",
       " 'LPost.Consumers',\n",
       " 'LPost.Consumptions',\n",
       " 'LPost.Liked.Page.Impressions',\n",
       " 'LPost.Liked.Page.Reach',\n",
       " 'LPeople.Post.Like...Engange',\n",
       " 'comment',\n",
       " 'like',\n",
       " 'share',\n",
       " 'Total.Interactions',\n",
       " 'Clus_km']"
      ]
     },
     "execution_count": 4,
     "metadata": {},
     "output_type": "execute_result"
    }
   ],
   "source": [
    "#Name of columns\n",
    "list(df.columns) "
   ]
  },
  {
   "cell_type": "code",
   "execution_count": 5,
   "metadata": {},
   "outputs": [
    {
     "data": {
      "text/plain": [
       "array([[139441, 'Photo', 2, 12, 4, 3, 0, 2752, 5091, 178, 109, 159, 3078,\n",
       "        1640, 119, 4, 79, 17],\n",
       "       [139441, 'Status', 2, 12, 3, 10, 0, 10460, 19057, 1457, 1361,\n",
       "        1674, 11710, 6112, 1108, 5, 130, 29],\n",
       "       [139441, 'Photo', 3, 12, 3, 3, 0, 2413, 4373, 177, 113, 154, 2812,\n",
       "        1503, 132, 0, 66, 14],\n",
       "       [139441, 'Photo', 2, 12, 2, 10, 1, 50128, 87991, 2211, 790, 1119,\n",
       "        61027, 32048, 1386, 58, 1572, 147],\n",
       "       [139441, 'Photo', 2, 12, 2, 3, 0, 7244, 13594, 671, 410, 580,\n",
       "        6228, 3200, 396, 19, 325, 49]], dtype=object)"
      ]
     },
     "execution_count": 5,
     "metadata": {},
     "output_type": "execute_result"
    }
   ],
   "source": [
    "#Quitamos la columna con el objetivo.\n",
    "X = df[['Page.total.likes','Type','Category', 'Post.Month', 'Post.Weekday', 'Post.Hour', 'Paid',\n",
    "        'LPost.Tot.Reach', 'LPost.Tot.Impressions', 'Lifetime.Engaged.Users', 'LPost.Consumers', 'LPost.Consumptions',\n",
    "         'LPost.Liked.Page.Impressions',\n",
    "         'LPost.Liked.Page.Reach',\n",
    "         'LPeople.Post.Like...Engange', 'comment', 'like', 'share']].values\n",
    "X[0:5]"
   ]
  },
  {
   "cell_type": "code",
   "execution_count": 18,
   "metadata": {},
   "outputs": [
    {
     "data": {
      "text/html": [
       "<div>\n",
       "<style scoped>\n",
       "    .dataframe tbody tr th:only-of-type {\n",
       "        vertical-align: middle;\n",
       "    }\n",
       "\n",
       "    .dataframe tbody tr th {\n",
       "        vertical-align: top;\n",
       "    }\n",
       "\n",
       "    .dataframe thead th {\n",
       "        text-align: right;\n",
       "    }\n",
       "</style>\n",
       "<table border=\"1\" class=\"dataframe\">\n",
       "  <thead>\n",
       "    <tr style=\"text-align: right;\">\n",
       "      <th></th>\n",
       "      <th>Page.total.likes</th>\n",
       "      <th>Type</th>\n",
       "      <th>Category</th>\n",
       "      <th>Post.Month</th>\n",
       "      <th>Post.Weekday</th>\n",
       "      <th>Post.Hour</th>\n",
       "      <th>Paid</th>\n",
       "      <th>LPost.Tot.Reach</th>\n",
       "      <th>LPost.Tot.Impressions</th>\n",
       "      <th>Lifetime.Engaged.Users</th>\n",
       "      <th>LPost.Consumers</th>\n",
       "      <th>LPost.Consumptions</th>\n",
       "      <th>LPost.Liked.Page.Impressions</th>\n",
       "      <th>LPost.Liked.Page.Reach</th>\n",
       "      <th>LPeople.Post.Like...Engange</th>\n",
       "      <th>comment</th>\n",
       "      <th>like</th>\n",
       "      <th>share</th>\n",
       "      <th>Total.Interactions</th>\n",
       "    </tr>\n",
       "  </thead>\n",
       "  <tbody>\n",
       "    <tr>\n",
       "      <th>0</th>\n",
       "      <td>139441</td>\n",
       "      <td>Photo</td>\n",
       "      <td>2</td>\n",
       "      <td>12</td>\n",
       "      <td>4</td>\n",
       "      <td>3</td>\n",
       "      <td>0</td>\n",
       "      <td>2752</td>\n",
       "      <td>5091</td>\n",
       "      <td>178</td>\n",
       "      <td>109</td>\n",
       "      <td>159</td>\n",
       "      <td>3078</td>\n",
       "      <td>1640</td>\n",
       "      <td>119</td>\n",
       "      <td>4</td>\n",
       "      <td>79</td>\n",
       "      <td>17</td>\n",
       "      <td>100</td>\n",
       "    </tr>\n",
       "    <tr>\n",
       "      <th>1</th>\n",
       "      <td>139441</td>\n",
       "      <td>Status</td>\n",
       "      <td>2</td>\n",
       "      <td>12</td>\n",
       "      <td>3</td>\n",
       "      <td>10</td>\n",
       "      <td>0</td>\n",
       "      <td>10460</td>\n",
       "      <td>19057</td>\n",
       "      <td>1457</td>\n",
       "      <td>1361</td>\n",
       "      <td>1674</td>\n",
       "      <td>11710</td>\n",
       "      <td>6112</td>\n",
       "      <td>1108</td>\n",
       "      <td>5</td>\n",
       "      <td>130</td>\n",
       "      <td>29</td>\n",
       "      <td>164</td>\n",
       "    </tr>\n",
       "    <tr>\n",
       "      <th>2</th>\n",
       "      <td>139441</td>\n",
       "      <td>Photo</td>\n",
       "      <td>3</td>\n",
       "      <td>12</td>\n",
       "      <td>3</td>\n",
       "      <td>3</td>\n",
       "      <td>0</td>\n",
       "      <td>2413</td>\n",
       "      <td>4373</td>\n",
       "      <td>177</td>\n",
       "      <td>113</td>\n",
       "      <td>154</td>\n",
       "      <td>2812</td>\n",
       "      <td>1503</td>\n",
       "      <td>132</td>\n",
       "      <td>0</td>\n",
       "      <td>66</td>\n",
       "      <td>14</td>\n",
       "      <td>80</td>\n",
       "    </tr>\n",
       "    <tr>\n",
       "      <th>3</th>\n",
       "      <td>139441</td>\n",
       "      <td>Photo</td>\n",
       "      <td>2</td>\n",
       "      <td>12</td>\n",
       "      <td>2</td>\n",
       "      <td>10</td>\n",
       "      <td>1</td>\n",
       "      <td>50128</td>\n",
       "      <td>87991</td>\n",
       "      <td>2211</td>\n",
       "      <td>790</td>\n",
       "      <td>1119</td>\n",
       "      <td>61027</td>\n",
       "      <td>32048</td>\n",
       "      <td>1386</td>\n",
       "      <td>58</td>\n",
       "      <td>1572</td>\n",
       "      <td>147</td>\n",
       "      <td>1777</td>\n",
       "    </tr>\n",
       "    <tr>\n",
       "      <th>4</th>\n",
       "      <td>139441</td>\n",
       "      <td>Photo</td>\n",
       "      <td>2</td>\n",
       "      <td>12</td>\n",
       "      <td>2</td>\n",
       "      <td>3</td>\n",
       "      <td>0</td>\n",
       "      <td>7244</td>\n",
       "      <td>13594</td>\n",
       "      <td>671</td>\n",
       "      <td>410</td>\n",
       "      <td>580</td>\n",
       "      <td>6228</td>\n",
       "      <td>3200</td>\n",
       "      <td>396</td>\n",
       "      <td>19</td>\n",
       "      <td>325</td>\n",
       "      <td>49</td>\n",
       "      <td>393</td>\n",
       "    </tr>\n",
       "  </tbody>\n",
       "</table>\n",
       "</div>"
      ],
      "text/plain": [
       "   Page.total.likes    Type  Category  Post.Month  Post.Weekday  Post.Hour  \\\n",
       "0            139441   Photo         2          12             4          3   \n",
       "1            139441  Status         2          12             3         10   \n",
       "2            139441   Photo         3          12             3          3   \n",
       "3            139441   Photo         2          12             2         10   \n",
       "4            139441   Photo         2          12             2          3   \n",
       "\n",
       "   Paid  LPost.Tot.Reach  LPost.Tot.Impressions  Lifetime.Engaged.Users  \\\n",
       "0     0             2752                   5091                     178   \n",
       "1     0            10460                  19057                    1457   \n",
       "2     0             2413                   4373                     177   \n",
       "3     1            50128                  87991                    2211   \n",
       "4     0             7244                  13594                     671   \n",
       "\n",
       "   LPost.Consumers  LPost.Consumptions  LPost.Liked.Page.Impressions  \\\n",
       "0              109                 159                          3078   \n",
       "1             1361                1674                         11710   \n",
       "2              113                 154                          2812   \n",
       "3              790                1119                         61027   \n",
       "4              410                 580                          6228   \n",
       "\n",
       "   LPost.Liked.Page.Reach  LPeople.Post.Like...Engange  comment  like  share  \\\n",
       "0                    1640                          119        4    79     17   \n",
       "1                    6112                         1108        5   130     29   \n",
       "2                    1503                          132        0    66     14   \n",
       "3                   32048                         1386       58  1572    147   \n",
       "4                    3200                          396       19   325     49   \n",
       "\n",
       "   Total.Interactions  \n",
       "0                 100  \n",
       "1                 164  \n",
       "2                  80  \n",
       "3                1777  \n",
       "4                 393  "
      ]
     },
     "execution_count": 18,
     "metadata": {},
     "output_type": "execute_result"
    }
   ],
   "source": [
    "data = df.drop(\"Clus_km\", axis=1)\n",
    "feature_names = data.columns\n",
    "data.head()"
   ]
  },
  {
   "cell_type": "code",
   "execution_count": 6,
   "metadata": {},
   "outputs": [],
   "source": [
    "#Reescribamos la columna Type pues tupo character\n",
    "from sklearn import preprocessing\n",
    "le_type = preprocessing.LabelEncoder()\n",
    "le_type.fit(['Photo','Status', 'Link','Video'])\n",
    "X[:,1] = le_type.transform(X[:,1]) "
   ]
  },
  {
   "cell_type": "code",
   "execution_count": 7,
   "metadata": {},
   "outputs": [
    {
     "data": {
      "text/plain": [
       "array([[139441, 1, 2, 12, 4, 3, 0, 2752, 5091, 178, 109, 159, 3078, 1640,\n",
       "        119, 4, 79, 17],\n",
       "       [139441, 2, 2, 12, 3, 10, 0, 10460, 19057, 1457, 1361, 1674,\n",
       "        11710, 6112, 1108, 5, 130, 29],\n",
       "       [139441, 1, 3, 12, 3, 3, 0, 2413, 4373, 177, 113, 154, 2812, 1503,\n",
       "        132, 0, 66, 14],\n",
       "       [139441, 1, 2, 12, 2, 10, 1, 50128, 87991, 2211, 790, 1119, 61027,\n",
       "        32048, 1386, 58, 1572, 147],\n",
       "       [139441, 1, 2, 12, 2, 3, 0, 7244, 13594, 671, 410, 580, 6228,\n",
       "        3200, 396, 19, 325, 49]], dtype=object)"
      ]
     },
     "execution_count": 7,
     "metadata": {},
     "output_type": "execute_result"
    }
   ],
   "source": [
    "X[0:5]"
   ]
  },
  {
   "cell_type": "code",
   "execution_count": 8,
   "metadata": {},
   "outputs": [
    {
     "data": {
      "text/plain": [
       "0    0\n",
       "1    0\n",
       "2    0\n",
       "3    1\n",
       "4    1\n",
       "Name: Clus_km, dtype: int64"
      ]
     },
     "execution_count": 8,
     "metadata": {},
     "output_type": "execute_result"
    }
   ],
   "source": [
    "#Ahora extraemos la variable objetivo\n",
    "y = df[\"Clus_km\"]\n",
    "y[0:5]"
   ]
  },
  {
   "cell_type": "code",
   "execution_count": 9,
   "metadata": {},
   "outputs": [],
   "source": [
    "from sklearn.model_selection import train_test_split"
   ]
  },
  {
   "cell_type": "code",
   "execution_count": 10,
   "metadata": {},
   "outputs": [],
   "source": [
    "#test size ,  70% training, 30% test.\n",
    "X_trainset, X_testset, y_trainset, y_testset = train_test_split(X, y, test_size=0.3, random_state=3)"
   ]
  },
  {
   "cell_type": "code",
   "execution_count": 11,
   "metadata": {},
   "outputs": [
    {
     "data": {
      "text/plain": [
       "(501, 18)"
      ]
     },
     "execution_count": 11,
     "metadata": {},
     "output_type": "execute_result"
    }
   ],
   "source": [
    "X_trainset.shape"
   ]
  },
  {
   "cell_type": "code",
   "execution_count": 12,
   "metadata": {},
   "outputs": [
    {
     "data": {
      "text/plain": [
       "(501,)"
      ]
     },
     "execution_count": 12,
     "metadata": {},
     "output_type": "execute_result"
    }
   ],
   "source": [
    "y_trainset.shape"
   ]
  },
  {
   "cell_type": "code",
   "execution_count": 13,
   "metadata": {},
   "outputs": [
    {
     "data": {
      "text/plain": [
       "(215, 18)"
      ]
     },
     "execution_count": 13,
     "metadata": {},
     "output_type": "execute_result"
    }
   ],
   "source": [
    "X_testset.shape"
   ]
  },
  {
   "cell_type": "code",
   "execution_count": 14,
   "metadata": {},
   "outputs": [
    {
     "data": {
      "text/plain": [
       "(215,)"
      ]
     },
     "execution_count": 14,
     "metadata": {},
     "output_type": "execute_result"
    }
   ],
   "source": [
    "y_testset.shape"
   ]
  },
  {
   "cell_type": "code",
   "execution_count": 15,
   "metadata": {},
   "outputs": [
    {
     "data": {
      "text/plain": [
       "0.9116279069767442"
      ]
     },
     "execution_count": 15,
     "metadata": {},
     "output_type": "execute_result"
    }
   ],
   "source": [
    "clf = tree.DecisionTreeClassifier()\n",
    "clf = clf.fit(X_trainset, y_trainset)\n",
    "clf.score(X_testset, y_testset)"
   ]
  },
  {
   "cell_type": "code",
   "execution_count": 16,
   "metadata": {},
   "outputs": [
    {
     "data": {
      "text/plain": [
       "0.9627906976744186"
      ]
     },
     "execution_count": 16,
     "metadata": {},
     "output_type": "execute_result"
    }
   ],
   "source": [
    "from sklearn.ensemble import RandomForestClassifier\n",
    "rf = RandomForestClassifier(n_estimators=200)\n",
    "rf = rf.fit(X_trainset, y_trainset)\n",
    "rf.score(X_testset, y_testset)"
   ]
  },
  {
   "cell_type": "code",
   "execution_count": 19,
   "metadata": {},
   "outputs": [
    {
     "data": {
      "text/plain": [
       "[(0.2294745132422757, 'like'),\n",
       " (0.22142054851915188, 'share'),\n",
       " (0.1461513366413977, 'comment'),\n",
       " (0.07774483447360543, 'LPost.Tot.Reach'),\n",
       " (0.06287730840208405, 'LPost.Liked.Page.Reach'),\n",
       " (0.05729517305637173, 'LPost.Tot.Impressions'),\n",
       " (0.05182419081200311, 'LPost.Liked.Page.Impressions'),\n",
       " (0.04629560979582368, 'Lifetime.Engaged.Users'),\n",
       " (0.03827854121341728, 'LPeople.Post.Like...Engange'),\n",
       " (0.017288655283884614, 'LPost.Consumers'),\n",
       " (0.01621504771428324, 'LPost.Consumptions'),\n",
       " (0.009647011043404635, 'Page.total.likes'),\n",
       " (0.006768625454177885, 'Category'),\n",
       " (0.00615726323421336, 'Post.Weekday'),\n",
       " (0.00511491144482348, 'Post.Hour'),\n",
       " (0.005080225353022569, 'Post.Month'),\n",
       " (0.0015371462030384074, 'Type'),\n",
       " (0.0008290581130212441, 'Paid')]"
      ]
     },
     "execution_count": 19,
     "metadata": {},
     "output_type": "execute_result"
    }
   ],
   "source": [
    "sorted(zip(rf.feature_importances_, feature_names), reverse=True)"
   ]
  },
  {
   "cell_type": "code",
   "execution_count": 21,
   "metadata": {},
   "outputs": [
    {
     "data": {
      "text/plain": [
       "RandomForestClassifier(bootstrap=True, ccp_alpha=0.0, class_weight=None,\n",
       "                       criterion='entropy', max_depth=4, max_features='auto',\n",
       "                       max_leaf_nodes=None, max_samples=None,\n",
       "                       min_impurity_decrease=0.0, min_impurity_split=None,\n",
       "                       min_samples_leaf=1, min_samples_split=2,\n",
       "                       min_weight_fraction_leaf=0.0, n_estimators=100,\n",
       "                       n_jobs=None, oob_score=False, random_state=None,\n",
       "                       verbose=0, warm_start=False)"
      ]
     },
     "execution_count": 21,
     "metadata": {},
     "output_type": "execute_result"
    }
   ],
   "source": [
    "fbRF = RandomForestClassifier(criterion=\"entropy\", max_depth = 4)\n",
    "fbRF # muestra los parámetros dados por default "
   ]
  },
  {
   "cell_type": "code",
   "execution_count": 22,
   "metadata": {},
   "outputs": [
    {
     "data": {
      "text/plain": [
       "RandomForestClassifier(bootstrap=True, ccp_alpha=0.0, class_weight=None,\n",
       "                       criterion='entropy', max_depth=4, max_features='auto',\n",
       "                       max_leaf_nodes=None, max_samples=None,\n",
       "                       min_impurity_decrease=0.0, min_impurity_split=None,\n",
       "                       min_samples_leaf=1, min_samples_split=2,\n",
       "                       min_weight_fraction_leaf=0.0, n_estimators=100,\n",
       "                       n_jobs=None, oob_score=False, random_state=None,\n",
       "                       verbose=0, warm_start=False)"
      ]
     },
     "execution_count": 22,
     "metadata": {},
     "output_type": "execute_result"
    }
   ],
   "source": [
    "fbRF.fit(X_trainset,y_trainset)"
   ]
  },
  {
   "cell_type": "code",
   "execution_count": 23,
   "metadata": {},
   "outputs": [],
   "source": [
    "predRF = fbRF.predict(X_testset)"
   ]
  },
  {
   "cell_type": "code",
   "execution_count": 25,
   "metadata": {},
   "outputs": [
    {
     "name": "stdout",
     "output_type": "stream",
     "text": [
      "[1 1 1 1 0]\n",
      "606    1\n",
      "491    1\n",
      "81     1\n",
      "539    1\n",
      "270    0\n",
      "Name: Clus_km, dtype: int64\n"
     ]
    }
   ],
   "source": [
    "print (predRF [0:5])\n",
    "print (y_testset [0:5])"
   ]
  },
  {
   "cell_type": "code",
   "execution_count": 26,
   "metadata": {},
   "outputs": [
    {
     "name": "stdout",
     "output_type": "stream",
     "text": [
      "Random Forest's Accuracy:  0.9627906976744186\n"
     ]
    }
   ],
   "source": [
    "from sklearn import metrics\n",
    "import matplotlib.pyplot as plt\n",
    "print(\"Random Forest's Accuracy: \", metrics.accuracy_score(y_testset, predRF))"
   ]
  },
  {
   "cell_type": "code",
   "execution_count": 28,
   "metadata": {},
   "outputs": [
    {
     "data": {
      "text/plain": [
       "['FBRandomForest_model.sav']"
      ]
     },
     "execution_count": 28,
     "metadata": {},
     "output_type": "execute_result"
    }
   ],
   "source": [
    "import joblib\n",
    "\n",
    "\n",
    "filename = ('FBRandomForest_model.sav')\n",
    "joblib.dump(fbRF,filename)"
   ]
  },
  {
   "cell_type": "code",
   "execution_count": null,
   "metadata": {},
   "outputs": [],
   "source": []
  }
 ],
 "metadata": {
  "kernelspec": {
   "display_name": "Python 3",
   "language": "python",
   "name": "python3"
  },
  "language_info": {
   "codemirror_mode": {
    "name": "ipython",
    "version": 3
   },
   "file_extension": ".py",
   "mimetype": "text/x-python",
   "name": "python",
   "nbconvert_exporter": "python",
   "pygments_lexer": "ipython3",
   "version": "3.7.6"
  }
 },
 "nbformat": 4,
 "nbformat_minor": 2
}
