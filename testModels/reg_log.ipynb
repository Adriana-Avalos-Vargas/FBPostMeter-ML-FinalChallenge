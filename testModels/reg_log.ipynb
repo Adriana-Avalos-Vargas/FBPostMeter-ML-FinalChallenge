{
 "cells": [
  {
   "cell_type": "code",
   "execution_count": 1,
   "metadata": {},
   "outputs": [],
   "source": [
    "#Importemos las librerías necesarias\n",
    "\n",
    "import pandas as pd\n",
    "import pylab as pl\n",
    "import numpy as np\n",
    "import scipy.optimize as opt\n",
    "from sklearn import preprocessing\n",
    "%matplotlib inline \n",
    "import matplotlib.pyplot as plt"
   ]
  },
  {
   "cell_type": "code",
   "execution_count": 2,
   "metadata": {},
   "outputs": [
    {
     "data": {
      "text/html": [
       "<div>\n",
       "<style scoped>\n",
       "    .dataframe tbody tr th:only-of-type {\n",
       "        vertical-align: middle;\n",
       "    }\n",
       "\n",
       "    .dataframe tbody tr th {\n",
       "        vertical-align: top;\n",
       "    }\n",
       "\n",
       "    .dataframe thead th {\n",
       "        text-align: right;\n",
       "    }\n",
       "</style>\n",
       "<table border=\"1\" class=\"dataframe\">\n",
       "  <thead>\n",
       "    <tr style=\"text-align: right;\">\n",
       "      <th></th>\n",
       "      <th>Page.total.likes</th>\n",
       "      <th>Type</th>\n",
       "      <th>Category</th>\n",
       "      <th>Post.Month</th>\n",
       "      <th>Post.Weekday</th>\n",
       "      <th>Post.Hour</th>\n",
       "      <th>Paid</th>\n",
       "      <th>LPost.Tot.Reach</th>\n",
       "      <th>LPost.Tot.Impressions</th>\n",
       "      <th>Lifetime.Engaged.Users</th>\n",
       "      <th>LPost.Consumers</th>\n",
       "      <th>LPost.Consumptions</th>\n",
       "      <th>LPost.Liked.Page.Impressions</th>\n",
       "      <th>LPost.Liked.Page.Reach</th>\n",
       "      <th>LPeople.Post.Like...Engange</th>\n",
       "      <th>comment</th>\n",
       "      <th>like</th>\n",
       "      <th>share</th>\n",
       "      <th>Total.Interactions</th>\n",
       "      <th>Clus_km</th>\n",
       "    </tr>\n",
       "  </thead>\n",
       "  <tbody>\n",
       "    <tr>\n",
       "      <td>0</td>\n",
       "      <td>139441</td>\n",
       "      <td>Photo</td>\n",
       "      <td>2</td>\n",
       "      <td>12</td>\n",
       "      <td>4</td>\n",
       "      <td>3</td>\n",
       "      <td>0</td>\n",
       "      <td>2752</td>\n",
       "      <td>5091</td>\n",
       "      <td>178</td>\n",
       "      <td>109</td>\n",
       "      <td>159</td>\n",
       "      <td>3078</td>\n",
       "      <td>1640</td>\n",
       "      <td>119</td>\n",
       "      <td>4</td>\n",
       "      <td>79</td>\n",
       "      <td>17</td>\n",
       "      <td>100</td>\n",
       "      <td>0</td>\n",
       "    </tr>\n",
       "    <tr>\n",
       "      <td>1</td>\n",
       "      <td>139441</td>\n",
       "      <td>Status</td>\n",
       "      <td>2</td>\n",
       "      <td>12</td>\n",
       "      <td>3</td>\n",
       "      <td>10</td>\n",
       "      <td>0</td>\n",
       "      <td>10460</td>\n",
       "      <td>19057</td>\n",
       "      <td>1457</td>\n",
       "      <td>1361</td>\n",
       "      <td>1674</td>\n",
       "      <td>11710</td>\n",
       "      <td>6112</td>\n",
       "      <td>1108</td>\n",
       "      <td>5</td>\n",
       "      <td>130</td>\n",
       "      <td>29</td>\n",
       "      <td>164</td>\n",
       "      <td>0</td>\n",
       "    </tr>\n",
       "    <tr>\n",
       "      <td>2</td>\n",
       "      <td>139441</td>\n",
       "      <td>Photo</td>\n",
       "      <td>3</td>\n",
       "      <td>12</td>\n",
       "      <td>3</td>\n",
       "      <td>3</td>\n",
       "      <td>0</td>\n",
       "      <td>2413</td>\n",
       "      <td>4373</td>\n",
       "      <td>177</td>\n",
       "      <td>113</td>\n",
       "      <td>154</td>\n",
       "      <td>2812</td>\n",
       "      <td>1503</td>\n",
       "      <td>132</td>\n",
       "      <td>0</td>\n",
       "      <td>66</td>\n",
       "      <td>14</td>\n",
       "      <td>80</td>\n",
       "      <td>0</td>\n",
       "    </tr>\n",
       "    <tr>\n",
       "      <td>3</td>\n",
       "      <td>139441</td>\n",
       "      <td>Photo</td>\n",
       "      <td>2</td>\n",
       "      <td>12</td>\n",
       "      <td>2</td>\n",
       "      <td>10</td>\n",
       "      <td>1</td>\n",
       "      <td>50128</td>\n",
       "      <td>87991</td>\n",
       "      <td>2211</td>\n",
       "      <td>790</td>\n",
       "      <td>1119</td>\n",
       "      <td>61027</td>\n",
       "      <td>32048</td>\n",
       "      <td>1386</td>\n",
       "      <td>58</td>\n",
       "      <td>1572</td>\n",
       "      <td>147</td>\n",
       "      <td>1777</td>\n",
       "      <td>1</td>\n",
       "    </tr>\n",
       "    <tr>\n",
       "      <td>4</td>\n",
       "      <td>139441</td>\n",
       "      <td>Photo</td>\n",
       "      <td>2</td>\n",
       "      <td>12</td>\n",
       "      <td>2</td>\n",
       "      <td>3</td>\n",
       "      <td>0</td>\n",
       "      <td>7244</td>\n",
       "      <td>13594</td>\n",
       "      <td>671</td>\n",
       "      <td>410</td>\n",
       "      <td>580</td>\n",
       "      <td>6228</td>\n",
       "      <td>3200</td>\n",
       "      <td>396</td>\n",
       "      <td>19</td>\n",
       "      <td>325</td>\n",
       "      <td>49</td>\n",
       "      <td>393</td>\n",
       "      <td>1</td>\n",
       "    </tr>\n",
       "  </tbody>\n",
       "</table>\n",
       "</div>"
      ],
      "text/plain": [
       "   Page.total.likes    Type  Category  Post.Month  Post.Weekday  Post.Hour  \\\n",
       "0            139441   Photo         2          12             4          3   \n",
       "1            139441  Status         2          12             3         10   \n",
       "2            139441   Photo         3          12             3          3   \n",
       "3            139441   Photo         2          12             2         10   \n",
       "4            139441   Photo         2          12             2          3   \n",
       "\n",
       "   Paid  LPost.Tot.Reach  LPost.Tot.Impressions  Lifetime.Engaged.Users  \\\n",
       "0     0             2752                   5091                     178   \n",
       "1     0            10460                  19057                    1457   \n",
       "2     0             2413                   4373                     177   \n",
       "3     1            50128                  87991                    2211   \n",
       "4     0             7244                  13594                     671   \n",
       "\n",
       "   LPost.Consumers  LPost.Consumptions  LPost.Liked.Page.Impressions  \\\n",
       "0              109                 159                          3078   \n",
       "1             1361                1674                         11710   \n",
       "2              113                 154                          2812   \n",
       "3              790                1119                         61027   \n",
       "4              410                 580                          6228   \n",
       "\n",
       "   LPost.Liked.Page.Reach  LPeople.Post.Like...Engange  comment  like  share  \\\n",
       "0                    1640                          119        4    79     17   \n",
       "1                    6112                         1108        5   130     29   \n",
       "2                    1503                          132        0    66     14   \n",
       "3                   32048                         1386       58  1572    147   \n",
       "4                    3200                          396       19   325     49   \n",
       "\n",
       "   Total.Interactions  Clus_km  \n",
       "0                 100        0  \n",
       "1                 164        0  \n",
       "2                  80        0  \n",
       "3                1777        1  \n",
       "4                 393        1  "
      ]
     },
     "execution_count": 2,
     "metadata": {},
     "output_type": "execute_result"
    }
   ],
   "source": [
    "#Call the database\n",
    "\n",
    "wd = \"C:/Users/avalo/OneDrive/Documentos/tec_documentos_plataforma/facebook_work/facebook_mock.csv\"\n",
    "\n",
    "df = pd.read_csv(wd)\n",
    "df.head()"
   ]
  },
  {
   "cell_type": "code",
   "execution_count": 3,
   "metadata": {},
   "outputs": [
    {
     "data": {
      "text/plain": [
       "['Page.total.likes',\n",
       " 'Type',\n",
       " 'Category',\n",
       " 'Post.Month',\n",
       " 'Post.Weekday',\n",
       " 'Post.Hour',\n",
       " 'Paid',\n",
       " 'LPost.Tot.Reach',\n",
       " 'LPost.Tot.Impressions',\n",
       " 'Lifetime.Engaged.Users',\n",
       " 'LPost.Consumers',\n",
       " 'LPost.Consumptions',\n",
       " 'LPost.Liked.Page.Impressions',\n",
       " 'LPost.Liked.Page.Reach',\n",
       " 'LPeople.Post.Like...Engange',\n",
       " 'comment',\n",
       " 'like',\n",
       " 'share',\n",
       " 'Total.Interactions',\n",
       " 'Clus_km']"
      ]
     },
     "execution_count": 3,
     "metadata": {},
     "output_type": "execute_result"
    }
   ],
   "source": [
    "#Name of columns\n",
    "list(df.columns) "
   ]
  },
  {
   "cell_type": "code",
   "execution_count": 4,
   "metadata": {},
   "outputs": [
    {
     "data": {
      "text/plain": [
       "array([[139441, 'Photo', 2, 12, 4, 3, 0, 2752, 5091, 178, 109, 159, 3078,\n",
       "        1640, 119, 4, 79, 17],\n",
       "       [139441, 'Status', 2, 12, 3, 10, 0, 10460, 19057, 1457, 1361,\n",
       "        1674, 11710, 6112, 1108, 5, 130, 29],\n",
       "       [139441, 'Photo', 3, 12, 3, 3, 0, 2413, 4373, 177, 113, 154, 2812,\n",
       "        1503, 132, 0, 66, 14],\n",
       "       [139441, 'Photo', 2, 12, 2, 10, 1, 50128, 87991, 2211, 790, 1119,\n",
       "        61027, 32048, 1386, 58, 1572, 147],\n",
       "       [139441, 'Photo', 2, 12, 2, 3, 0, 7244, 13594, 671, 410, 580,\n",
       "        6228, 3200, 396, 19, 325, 49]], dtype=object)"
      ]
     },
     "execution_count": 4,
     "metadata": {},
     "output_type": "execute_result"
    }
   ],
   "source": [
    "#Quitamos la columna con el objetivo.\n",
    "X = df[['Page.total.likes','Type','Category', 'Post.Month', 'Post.Weekday', 'Post.Hour', 'Paid',\n",
    "        'LPost.Tot.Reach', 'LPost.Tot.Impressions', 'Lifetime.Engaged.Users', 'LPost.Consumers', 'LPost.Consumptions',\n",
    "         'LPost.Liked.Page.Impressions',\n",
    "         'LPost.Liked.Page.Reach',\n",
    "         'LPeople.Post.Like...Engange', 'comment', 'like', 'share']].values\n",
    "X[0:5]"
   ]
  },
  {
   "cell_type": "code",
   "execution_count": 5,
   "metadata": {},
   "outputs": [],
   "source": [
    "#Reescribamos la columna Type pues tupo character\n",
    "from sklearn import preprocessing\n",
    "le_type = preprocessing.LabelEncoder()\n",
    "le_type.fit(['Photo','Status', 'Link','Video'])\n",
    "X[:,1] = le_type.transform(X[:,1]) "
   ]
  },
  {
   "cell_type": "code",
   "execution_count": 6,
   "metadata": {},
   "outputs": [
    {
     "data": {
      "text/plain": [
       "array([[139441, 1, 2, 12, 4, 3, 0, 2752, 5091, 178, 109, 159, 3078, 1640,\n",
       "        119, 4, 79, 17],\n",
       "       [139441, 2, 2, 12, 3, 10, 0, 10460, 19057, 1457, 1361, 1674,\n",
       "        11710, 6112, 1108, 5, 130, 29],\n",
       "       [139441, 1, 3, 12, 3, 3, 0, 2413, 4373, 177, 113, 154, 2812, 1503,\n",
       "        132, 0, 66, 14],\n",
       "       [139441, 1, 2, 12, 2, 10, 1, 50128, 87991, 2211, 790, 1119, 61027,\n",
       "        32048, 1386, 58, 1572, 147],\n",
       "       [139441, 1, 2, 12, 2, 3, 0, 7244, 13594, 671, 410, 580, 6228,\n",
       "        3200, 396, 19, 325, 49]], dtype=object)"
      ]
     },
     "execution_count": 6,
     "metadata": {},
     "output_type": "execute_result"
    }
   ],
   "source": [
    "X[0:5]"
   ]
  },
  {
   "cell_type": "code",
   "execution_count": 7,
   "metadata": {},
   "outputs": [
    {
     "data": {
      "text/plain": [
       "0    0\n",
       "1    0\n",
       "2    0\n",
       "3    1\n",
       "4    1\n",
       "Name: Clus_km, dtype: int64"
      ]
     },
     "execution_count": 7,
     "metadata": {},
     "output_type": "execute_result"
    }
   ],
   "source": [
    "#Ahora extraemos la variable objetivo\n",
    "y = df[\"Clus_km\"]\n",
    "y[0:5]"
   ]
  },
  {
   "cell_type": "code",
   "execution_count": 8,
   "metadata": {},
   "outputs": [],
   "source": [
    "from sklearn.model_selection import train_test_split"
   ]
  },
  {
   "cell_type": "code",
   "execution_count": 9,
   "metadata": {},
   "outputs": [],
   "source": [
    "X_trainset, X_testset, y_trainset, y_testset = train_test_split(X, y, test_size=0.3, random_state=3)"
   ]
  },
  {
   "cell_type": "code",
   "execution_count": 10,
   "metadata": {},
   "outputs": [
    {
     "data": {
      "text/plain": [
       "(501, 18)"
      ]
     },
     "execution_count": 10,
     "metadata": {},
     "output_type": "execute_result"
    }
   ],
   "source": [
    "X_trainset.shape"
   ]
  },
  {
   "cell_type": "code",
   "execution_count": 11,
   "metadata": {},
   "outputs": [
    {
     "data": {
      "text/plain": [
       "(501,)"
      ]
     },
     "execution_count": 11,
     "metadata": {},
     "output_type": "execute_result"
    }
   ],
   "source": [
    "y_trainset.shape"
   ]
  },
  {
   "cell_type": "code",
   "execution_count": 12,
   "metadata": {},
   "outputs": [
    {
     "data": {
      "text/plain": [
       "(215, 18)"
      ]
     },
     "execution_count": 12,
     "metadata": {},
     "output_type": "execute_result"
    }
   ],
   "source": [
    "X_testset.shape"
   ]
  },
  {
   "cell_type": "code",
   "execution_count": 13,
   "metadata": {},
   "outputs": [
    {
     "data": {
      "text/plain": [
       "(215,)"
      ]
     },
     "execution_count": 13,
     "metadata": {},
     "output_type": "execute_result"
    }
   ],
   "source": [
    "y_testset.shape"
   ]
  },
  {
   "cell_type": "code",
   "execution_count": 15,
   "metadata": {},
   "outputs": [
    {
     "data": {
      "text/plain": [
       "array([[ 0.98254124, -0.29022476,  0.05613374,  1.45753574, -0.02814123,\n",
       "        -1.04379008, -0.65726707, -0.76822538, -0.54084906, -1.01307798,\n",
       "        -0.95092883, -0.84252927, -0.41381179, -0.90220583, -1.01016851,\n",
       "        -0.5707645 , -0.69402799, -0.69395929],\n",
       "       [ 0.98254124,  1.67016136,  0.05613374,  1.45753574, -0.53186919,\n",
       "         0.59309224, -0.65726707, -0.45569106, -0.32768621,  0.24812423,\n",
       "         0.36596176, -0.04253662, -0.23019671, -0.41230384,  0.52233707,\n",
       "        -0.49736877, -0.52650115, -0.32022868],\n",
       "       [ 0.98254124, -0.29022476,  1.23824433,  1.45753574, -0.53186919,\n",
       "        -1.04379008, -0.65726707, -0.78197073, -0.55180788, -1.01406407,\n",
       "        -0.94672151, -0.84516951, -0.41946999, -0.91721401, -0.99002435,\n",
       "        -0.86434738, -0.73673091, -0.78739195],\n",
       "       [ 0.98254124, -0.29022476,  0.05613374,  1.45753574, -1.03559716,\n",
       "         0.59309224,  1.52145155,  1.15271726,  0.72445241,  0.99163202,\n",
       "        -0.23463291, -0.33560324,  0.81884693,  2.42895243,  0.95311215,\n",
       "         3.39260448,  4.2102383 ,  3.35478904],\n",
       "       [ 0.98254124, -0.29022476,  0.05613374,  1.45753574, -1.03559716,\n",
       "        -1.04379008, -0.65726707, -0.5860894 , -0.4110679 , -0.52693827,\n",
       "        -0.63432813, -0.62022108, -0.34680675, -0.73130979, -0.58094298,\n",
       "         0.53017133,  0.11404268,  0.30265568]])"
      ]
     },
     "execution_count": 15,
     "metadata": {},
     "output_type": "execute_result"
    }
   ],
   "source": [
    "#También normalizamos los datos\n",
    "#Importamos el modulo para normalizar datos\n",
    "from sklearn import preprocessing\n",
    "#Normalizamos las características https://scikit-learn.org/stable/modules/preprocessing.html\n",
    "my_scaler = preprocessing.StandardScaler()\n",
    "\n",
    "#Ajustamos\n",
    "X = my_scaler.fit(X).transform(X)\n",
    "#Pedimos que nos muestre las primeras filas\n",
    "X[0:5]"
   ]
  },
  {
   "cell_type": "code",
   "execution_count": 16,
   "metadata": {},
   "outputs": [
    {
     "name": "stdout",
     "output_type": "stream",
     "text": [
      "Conjunto de entrenamiento: (572, 18) (572,)\n",
      "Conjunto de prueba: (144, 18) (144,)\n"
     ]
    }
   ],
   "source": [
    "#Llamamos a la función train_test_split\n",
    "from sklearn.model_selection import train_test_split\n",
    "#Dividimos los datos originales, dejando el 20% de ellos como conjunto de prueba. Fijamos la semilla en 4.\n",
    "X_train, X_test, y_train, y_test = train_test_split( X, y, test_size=0.2, random_state=4)\n",
    "#Pedimos que nos muestre el tamaño del conjunto de entrenamiento y el de prueba\n",
    "print ('Conjunto de entrenamiento:', X_train.shape,  y_train.shape)\n",
    "print ('Conjunto de prueba:', X_test.shape,  y_test.shape)"
   ]
  },
  {
   "cell_type": "code",
   "execution_count": 17,
   "metadata": {},
   "outputs": [
    {
     "data": {
      "text/plain": [
       "LogisticRegression(C=0.01, class_weight=None, dual=False, fit_intercept=True,\n",
       "                   intercept_scaling=1, l1_ratio=None, max_iter=100,\n",
       "                   multi_class='warn', n_jobs=None, penalty='l2',\n",
       "                   random_state=None, solver='liblinear', tol=0.0001, verbose=0,\n",
       "                   warm_start=False)"
      ]
     },
     "execution_count": 17,
     "metadata": {},
     "output_type": "execute_result"
    }
   ],
   "source": [
    "#Llamamos a las librerías con las respectivas funciones que se usaran en esta y las subsecuentes secciones\n",
    "from sklearn.linear_model import LogisticRegression\n",
    "from sklearn.metrics import confusion_matrix\n",
    "\n",
    "#Creamos el objeto de regresión lineal y lo ajustamos con el conjunto de entrenamiento.\n",
    "LR = LogisticRegression(C=0.01, solver='liblinear').fit(X_train,y_train)\n",
    "LR"
   ]
  },
  {
   "cell_type": "code",
   "execution_count": 18,
   "metadata": {},
   "outputs": [
    {
     "data": {
      "text/plain": [
       "array([1, 0, 0, 0, 1, 0, 1, 0, 0, 0, 1, 1, 0, 1, 1, 1, 0, 1, 0, 0, 1, 1,\n",
       "       1, 1, 0, 0, 1, 1, 0, 1, 0, 1, 0, 1, 0, 0, 1, 1, 0, 0, 1, 0, 1, 0,\n",
       "       0, 0, 1, 1, 0, 0, 0, 0, 1, 1, 0, 0, 0, 0, 1, 0, 0, 0, 0, 1, 1, 1,\n",
       "       1, 0, 0, 1, 1, 1, 1, 0, 1, 0, 0, 1, 0, 0, 1, 1, 1, 0, 0, 1, 1, 0,\n",
       "       0, 0, 0, 0, 0, 0, 0, 0, 0, 0, 0, 1, 1, 0, 1, 1, 1, 0, 0, 0, 0, 0,\n",
       "       0, 0, 1, 0, 1, 1, 0, 1, 1, 0, 1, 0, 1, 0, 1, 0, 1, 1, 0, 0, 1, 0,\n",
       "       0, 0, 0, 1, 1, 0, 0, 0, 0, 0, 1, 0], dtype=int64)"
      ]
     },
     "execution_count": 18,
     "metadata": {},
     "output_type": "execute_result"
    }
   ],
   "source": [
    "#Realizamos una predicción usando el conjunto de prueba:\n",
    "yhat = LR.predict(X_test)\n",
    "yhat"
   ]
  },
  {
   "cell_type": "code",
   "execution_count": 19,
   "metadata": {},
   "outputs": [
    {
     "data": {
      "text/plain": [
       "array([[0.0888666 , 0.9111334 ],\n",
       "       [0.72616948, 0.27383052],\n",
       "       [0.85790374, 0.14209626],\n",
       "       [0.7089211 , 0.2910789 ],\n",
       "       [0.01894956, 0.98105044],\n",
       "       [0.84760147, 0.15239853],\n",
       "       [0.10576164, 0.89423836],\n",
       "       [0.9203052 , 0.0796948 ],\n",
       "       [0.84577316, 0.15422684],\n",
       "       [0.86610766, 0.13389234],\n",
       "       [0.01612304, 0.98387696],\n",
       "       [0.11793334, 0.88206666],\n",
       "       [0.8082914 , 0.1917086 ],\n",
       "       [0.03963028, 0.96036972],\n",
       "       [0.03619286, 0.96380714],\n",
       "       [0.27560564, 0.72439436],\n",
       "       [0.91005642, 0.08994358],\n",
       "       [0.17427338, 0.82572662],\n",
       "       [0.74586828, 0.25413172],\n",
       "       [0.91725047, 0.08274953],\n",
       "       [0.05869389, 0.94130611],\n",
       "       [0.06348025, 0.93651975],\n",
       "       [0.16369306, 0.83630694],\n",
       "       [0.25900133, 0.74099867],\n",
       "       [0.77101361, 0.22898639],\n",
       "       [0.92785225, 0.07214775],\n",
       "       [0.13749324, 0.86250676],\n",
       "       [0.33448599, 0.66551401],\n",
       "       [0.87367164, 0.12632836],\n",
       "       [0.20857204, 0.79142796],\n",
       "       [0.93458008, 0.06541992],\n",
       "       [0.13311601, 0.86688399],\n",
       "       [0.95614508, 0.04385492],\n",
       "       [0.05726339, 0.94273661],\n",
       "       [0.91290027, 0.08709973],\n",
       "       [0.93574712, 0.06425288],\n",
       "       [0.26900247, 0.73099753],\n",
       "       [0.19094296, 0.80905704],\n",
       "       [0.75274242, 0.24725758],\n",
       "       [0.84623161, 0.15376839],\n",
       "       [0.04461918, 0.95538082],\n",
       "       [0.88760907, 0.11239093],\n",
       "       [0.40023445, 0.59976555],\n",
       "       [0.74136151, 0.25863849],\n",
       "       [0.8909314 , 0.1090686 ],\n",
       "       [0.78169133, 0.21830867],\n",
       "       [0.08534419, 0.91465581],\n",
       "       [0.16197859, 0.83802141],\n",
       "       [0.58133713, 0.41866287],\n",
       "       [0.88148565, 0.11851435],\n",
       "       [0.91610781, 0.08389219],\n",
       "       [0.64539169, 0.35460831],\n",
       "       [0.0774662 , 0.9225338 ],\n",
       "       [0.06656866, 0.93343134],\n",
       "       [0.86445343, 0.13554657],\n",
       "       [0.66787385, 0.33212615],\n",
       "       [0.94406967, 0.05593033],\n",
       "       [0.6703044 , 0.3296956 ],\n",
       "       [0.1152061 , 0.8847939 ],\n",
       "       [0.88723393, 0.11276607],\n",
       "       [0.86098145, 0.13901855],\n",
       "       [0.86986786, 0.13013214],\n",
       "       [0.93704572, 0.06295428],\n",
       "       [0.43380321, 0.56619679],\n",
       "       [0.16854319, 0.83145681],\n",
       "       [0.06248985, 0.93751015],\n",
       "       [0.21093458, 0.78906542],\n",
       "       [0.910849  , 0.089151  ],\n",
       "       [0.76916999, 0.23083001],\n",
       "       [0.48261073, 0.51738927],\n",
       "       [0.13115167, 0.86884833],\n",
       "       [0.25443209, 0.74556791],\n",
       "       [0.35727466, 0.64272534],\n",
       "       [0.59863939, 0.40136061],\n",
       "       [0.13693515, 0.86306485],\n",
       "       [0.94926458, 0.05073542],\n",
       "       [0.92838951, 0.07161049],\n",
       "       [0.02570854, 0.97429146],\n",
       "       [0.7001878 , 0.2998122 ],\n",
       "       [0.88706349, 0.11293651],\n",
       "       [0.4020224 , 0.5979776 ],\n",
       "       [0.06296943, 0.93703057],\n",
       "       [0.06235304, 0.93764696],\n",
       "       [0.93287251, 0.06712749],\n",
       "       [0.76404859, 0.23595141],\n",
       "       [0.08379011, 0.91620989],\n",
       "       [0.06132223, 0.93867777],\n",
       "       [0.83281706, 0.16718294],\n",
       "       [0.78323725, 0.21676275],\n",
       "       [0.74640482, 0.25359518],\n",
       "       [0.92238019, 0.07761981],\n",
       "       [0.75110645, 0.24889355],\n",
       "       [0.78913522, 0.21086478],\n",
       "       [0.77277656, 0.22722344],\n",
       "       [0.89850203, 0.10149797],\n",
       "       [0.9104523 , 0.0895477 ],\n",
       "       [0.91502287, 0.08497713],\n",
       "       [0.94881266, 0.05118734],\n",
       "       [0.90480836, 0.09519164],\n",
       "       [0.08462031, 0.91537969],\n",
       "       [0.09032497, 0.90967503],\n",
       "       [0.75631802, 0.24368198],\n",
       "       [0.19653551, 0.80346449],\n",
       "       [0.11030202, 0.88969798],\n",
       "       [0.26199199, 0.73800801],\n",
       "       [0.60635701, 0.39364299],\n",
       "       [0.79090535, 0.20909465],\n",
       "       [0.86166752, 0.13833248],\n",
       "       [0.8705977 , 0.1294023 ],\n",
       "       [0.60534711, 0.39465289],\n",
       "       [0.96298514, 0.03701486],\n",
       "       [0.94813573, 0.05186427],\n",
       "       [0.11089886, 0.88910114],\n",
       "       [0.8588091 , 0.1411909 ],\n",
       "       [0.47685226, 0.52314774],\n",
       "       [0.05497318, 0.94502682],\n",
       "       [0.8830219 , 0.1169781 ],\n",
       "       [0.14842163, 0.85157837],\n",
       "       [0.03579705, 0.96420295],\n",
       "       [0.74947341, 0.25052659],\n",
       "       [0.05862881, 0.94137119],\n",
       "       [0.79205923, 0.20794077],\n",
       "       [0.13746991, 0.86253009],\n",
       "       [0.89991303, 0.10008697],\n",
       "       [0.11237561, 0.88762439],\n",
       "       [0.77825961, 0.22174039],\n",
       "       [0.34657002, 0.65342998],\n",
       "       [0.38802714, 0.61197286],\n",
       "       [0.53305494, 0.46694506],\n",
       "       [0.91610027, 0.08389973],\n",
       "       [0.15902387, 0.84097613],\n",
       "       [0.73765564, 0.26234436],\n",
       "       [0.68856569, 0.31143431],\n",
       "       [0.92680155, 0.07319845],\n",
       "       [0.87494353, 0.12505647],\n",
       "       [0.00219088, 0.99780912],\n",
       "       [0.04262436, 0.95737564],\n",
       "       [0.65892401, 0.34107599],\n",
       "       [0.81145312, 0.18854688],\n",
       "       [0.86474701, 0.13525299],\n",
       "       [0.85147723, 0.14852277],\n",
       "       [0.89263273, 0.10736727],\n",
       "       [0.1448694 , 0.8551306 ],\n",
       "       [0.85857841, 0.14142159]])"
      ]
     },
     "execution_count": 19,
     "metadata": {},
     "output_type": "execute_result"
    }
   ],
   "source": [
    "yhat_prob = LR.predict_proba(X_test)\n",
    "yhat_prob"
   ]
  },
  {
   "cell_type": "code",
   "execution_count": 20,
   "metadata": {},
   "outputs": [
    {
     "name": "stderr",
     "output_type": "stream",
     "text": [
      "C:\\anaconda\\lib\\site-packages\\sklearn\\metrics\\classification.py:635: DeprecationWarning: jaccard_similarity_score has been deprecated and replaced with jaccard_score. It will be removed in version 0.23. This implementation has surprising behavior for binary and multiclass classification tasks.\n",
      "  'and multiclass classification tasks.', DeprecationWarning)\n"
     ]
    },
    {
     "data": {
      "text/plain": [
       "0.9791666666666666"
      ]
     },
     "execution_count": 20,
     "metadata": {},
     "output_type": "execute_result"
    }
   ],
   "source": [
    "from sklearn.metrics import jaccard_similarity_score\n",
    "jaccard_similarity_score(y_test, yhat)"
   ]
  },
  {
   "cell_type": "code",
   "execution_count": 21,
   "metadata": {},
   "outputs": [],
   "source": [
    "#Importamos dos funciones para realizar el reporte de clasificaicón y la matriz de confusión.\n",
    "from sklearn.metrics import classification_report, confusion_matrix\n",
    "import itertools\n",
    "\n",
    "#Creamos una función que calcule la matriz de confusión\n",
    "def plot_confusion_matrix(cm, classes,\n",
    "                          normalize=False,\n",
    "                          title='Matriz de confusion',\n",
    "                          cmap=plt.cm.Blues):\n",
    "    \"\"\"\n",
    "    Esta función imprime y grafica la matriz de confusión.\n",
    "    Se puede aplicar la normalización declarando `normalize=True`.\n",
    "    \"\"\"\n",
    "    if normalize:\n",
    "        cm = cm.astype('float') / cm.sum(axis=1)[:, np.newaxis]\n",
    "        print(\"Matriz de confusión normalizada\")\n",
    "    else:\n",
    "        print('Matriz de confusión sin normalizar')\n",
    "\n",
    "    print(cm)\n",
    "\n",
    "    plt.imshow(cm, interpolation='nearest', cmap=cmap)\n",
    "    plt.title(title)\n",
    "    plt.colorbar()\n",
    "    tick_marks = np.arange(len(classes))\n",
    "    plt.xticks(tick_marks, classes, rotation=45)\n",
    "    plt.yticks(tick_marks, classes)\n",
    "\n",
    "    fmt = '.2f' if normalize else 'd'\n",
    "    thresh = cm.max() / 2.\n",
    "    for i, j in itertools.product(range(cm.shape[0]), range(cm.shape[1])):\n",
    "        plt.text(j, i, format(cm[i, j], fmt),\n",
    "                 horizontalalignment=\"center\",\n",
    "                 color=\"white\" if cm[i, j] > thresh else \"black\")\n",
    "\n",
    "    plt.tight_layout()\n",
    "    plt.ylabel('Etiqueta real')\n",
    "    plt.xlabel('Predicción de la etiqueta')\n"
   ]
  },
  {
   "cell_type": "code",
   "execution_count": 22,
   "metadata": {},
   "outputs": [
    {
     "name": "stdout",
     "output_type": "stream",
     "text": [
      "[[82  2]\n",
      " [ 1 59]]\n"
     ]
    }
   ],
   "source": [
    "#Calculamos la matriz de confusión\n",
    "print(confusion_matrix(y_test, yhat, labels=[0,1]))"
   ]
  },
  {
   "cell_type": "code",
   "execution_count": 23,
   "metadata": {},
   "outputs": [],
   "source": [
    "#Volvemos a calcular la matriz de confusión y la guardamos en cnf_matrix\n",
    "#indicadmos que deseamos una presicion de 2  la g\n",
    "cnf_matrix = confusion_matrix(y_test, yhat, labels=[1,0])\n",
    "np.set_printoptions(precision=2)"
   ]
  },
  {
   "cell_type": "code",
   "execution_count": 24,
   "metadata": {},
   "outputs": [
    {
     "name": "stdout",
     "output_type": "stream",
     "text": [
      "Matriz de confusión sin normalizar\n",
      "[[59  1]\n",
      " [ 2 82]]\n"
     ]
    },
    {
     "data": {
      "image/png": "[encoded data removed]",
      "text/plain": [
       "<Figure size 432x288 with 2 Axes>"
      ]
     },
     "metadata": {
      "needs_background": "light"
     },
     "output_type": "display_data"
    }
   ],
   "source": [
    "#Graficamos la matriz de confusión no normalizada\n",
    "plt.figure()\n",
    "plot_confusion_matrix(cnf_matrix, classes=['churn=1','churn=0'],normalize= False,  title='Matriz de Confusion')"
   ]
  },
  {
   "cell_type": "code",
   "execution_count": 25,
   "metadata": {},
   "outputs": [
    {
     "name": "stdout",
     "output_type": "stream",
     "text": [
      "              precision    recall  f1-score   support\n",
      "\n",
      "           0       0.99      0.98      0.98        84\n",
      "           1       0.97      0.98      0.98        60\n",
      "\n",
      "    accuracy                           0.98       144\n",
      "   macro avg       0.98      0.98      0.98       144\n",
      "weighted avg       0.98      0.98      0.98       144\n",
      "\n"
     ]
    }
   ],
   "source": [
    "#Pedimos los valores de la precisión y de la recuperación\n",
    "print (classification_report(y_test, yhat))"
   ]
  },
  {
   "cell_type": "code",
   "execution_count": 26,
   "metadata": {},
   "outputs": [
    {
     "data": {
      "text/plain": [
       "0.2039019165149475"
      ]
     },
     "execution_count": 26,
     "metadata": {},
     "output_type": "execute_result"
    }
   ],
   "source": [
    "from sklearn.metrics import log_loss\n",
    "log_loss(y_test, yhat_prob)"
   ]
  },
  {
   "cell_type": "code",
   "execution_count": null,
   "metadata": {},
   "outputs": [],
   "source": []
  }
 ],
 "metadata": {
  "kernelspec": {
   "display_name": "Python 3",
   "language": "python",
   "name": "python3"
  },
  "language_info": {
   "codemirror_mode": {
    "name": "ipython",
    "version": 3
   },
   "file_extension": ".py",
   "mimetype": "text/x-python",
   "name": "python",
   "nbconvert_exporter": "python",
   "pygments_lexer": "ipython3",
   "version": "3.7.4"
  }
 },
 "nbformat": 4,
 "nbformat_minor": 2
}
