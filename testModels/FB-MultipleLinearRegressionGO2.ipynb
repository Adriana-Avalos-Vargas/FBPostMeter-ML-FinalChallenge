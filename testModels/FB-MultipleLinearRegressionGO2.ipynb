{
 "cells": [
  {
   "cell_type": "code",
   "execution_count": 1,
   "metadata": {},
   "outputs": [],
   "source": [
    "#Import Dependencies\n",
    "import warnings\n",
    "warnings.simplefilter('ignore')"
   ]
  },
  {
   "cell_type": "code",
   "execution_count": 2,
   "metadata": {},
   "outputs": [],
   "source": [
    "%matplotlib inline\n",
    "import matplotlib.pyplot as plt\n",
    "import numpy as np\n",
    "import pandas as pd\n",
    "import joblib"
   ]
  },
  {
   "cell_type": "code",
   "execution_count": 3,
   "metadata": {},
   "outputs": [
    {
     "data": {
      "text/html": [
       "<div>\n",
       "<style scoped>\n",
       "    .dataframe tbody tr th:only-of-type {\n",
       "        vertical-align: middle;\n",
       "    }\n",
       "\n",
       "    .dataframe tbody tr th {\n",
       "        vertical-align: top;\n",
       "    }\n",
       "\n",
       "    .dataframe thead th {\n",
       "        text-align: right;\n",
       "    }\n",
       "</style>\n",
       "<table border=\"1\" class=\"dataframe\">\n",
       "  <thead>\n",
       "    <tr style=\"text-align: right;\">\n",
       "      <th></th>\n",
       "      <th>Page.total.likes</th>\n",
       "      <th>Type</th>\n",
       "      <th>Category</th>\n",
       "      <th>Post.Month</th>\n",
       "      <th>Post.Weekday</th>\n",
       "      <th>Post.Hour</th>\n",
       "      <th>Paid</th>\n",
       "      <th>LPost.Tot.Reach</th>\n",
       "      <th>LPost.Tot.Impressions</th>\n",
       "      <th>Lifetime.Engaged.Users</th>\n",
       "      <th>LPost.Consumers</th>\n",
       "      <th>LPost.Consumptions</th>\n",
       "      <th>LPost.Liked.Page.Impressions</th>\n",
       "      <th>LPost.Liked.Page.Reach</th>\n",
       "      <th>LPeople.Post.Like...Engange</th>\n",
       "      <th>comment</th>\n",
       "      <th>like</th>\n",
       "      <th>share</th>\n",
       "      <th>Total.Interactions</th>\n",
       "      <th>Clus_km</th>\n",
       "    </tr>\n",
       "  </thead>\n",
       "  <tbody>\n",
       "    <tr>\n",
       "      <th>0</th>\n",
       "      <td>139441</td>\n",
       "      <td>Photo</td>\n",
       "      <td>2</td>\n",
       "      <td>12</td>\n",
       "      <td>4</td>\n",
       "      <td>3</td>\n",
       "      <td>0</td>\n",
       "      <td>2752</td>\n",
       "      <td>5091</td>\n",
       "      <td>178</td>\n",
       "      <td>109</td>\n",
       "      <td>159</td>\n",
       "      <td>3078</td>\n",
       "      <td>1640</td>\n",
       "      <td>119</td>\n",
       "      <td>4</td>\n",
       "      <td>79</td>\n",
       "      <td>17</td>\n",
       "      <td>100</td>\n",
       "      <td>0</td>\n",
       "    </tr>\n",
       "    <tr>\n",
       "      <th>1</th>\n",
       "      <td>139441</td>\n",
       "      <td>Status</td>\n",
       "      <td>2</td>\n",
       "      <td>12</td>\n",
       "      <td>3</td>\n",
       "      <td>10</td>\n",
       "      <td>0</td>\n",
       "      <td>10460</td>\n",
       "      <td>19057</td>\n",
       "      <td>1457</td>\n",
       "      <td>1361</td>\n",
       "      <td>1674</td>\n",
       "      <td>11710</td>\n",
       "      <td>6112</td>\n",
       "      <td>1108</td>\n",
       "      <td>5</td>\n",
       "      <td>130</td>\n",
       "      <td>29</td>\n",
       "      <td>164</td>\n",
       "      <td>0</td>\n",
       "    </tr>\n",
       "    <tr>\n",
       "      <th>2</th>\n",
       "      <td>139441</td>\n",
       "      <td>Photo</td>\n",
       "      <td>3</td>\n",
       "      <td>12</td>\n",
       "      <td>3</td>\n",
       "      <td>3</td>\n",
       "      <td>0</td>\n",
       "      <td>2413</td>\n",
       "      <td>4373</td>\n",
       "      <td>177</td>\n",
       "      <td>113</td>\n",
       "      <td>154</td>\n",
       "      <td>2812</td>\n",
       "      <td>1503</td>\n",
       "      <td>132</td>\n",
       "      <td>0</td>\n",
       "      <td>66</td>\n",
       "      <td>14</td>\n",
       "      <td>80</td>\n",
       "      <td>0</td>\n",
       "    </tr>\n",
       "    <tr>\n",
       "      <th>3</th>\n",
       "      <td>139441</td>\n",
       "      <td>Photo</td>\n",
       "      <td>2</td>\n",
       "      <td>12</td>\n",
       "      <td>2</td>\n",
       "      <td>10</td>\n",
       "      <td>1</td>\n",
       "      <td>50128</td>\n",
       "      <td>87991</td>\n",
       "      <td>2211</td>\n",
       "      <td>790</td>\n",
       "      <td>1119</td>\n",
       "      <td>61027</td>\n",
       "      <td>32048</td>\n",
       "      <td>1386</td>\n",
       "      <td>58</td>\n",
       "      <td>1572</td>\n",
       "      <td>147</td>\n",
       "      <td>1777</td>\n",
       "      <td>1</td>\n",
       "    </tr>\n",
       "    <tr>\n",
       "      <th>4</th>\n",
       "      <td>139441</td>\n",
       "      <td>Photo</td>\n",
       "      <td>2</td>\n",
       "      <td>12</td>\n",
       "      <td>2</td>\n",
       "      <td>3</td>\n",
       "      <td>0</td>\n",
       "      <td>7244</td>\n",
       "      <td>13594</td>\n",
       "      <td>671</td>\n",
       "      <td>410</td>\n",
       "      <td>580</td>\n",
       "      <td>6228</td>\n",
       "      <td>3200</td>\n",
       "      <td>396</td>\n",
       "      <td>19</td>\n",
       "      <td>325</td>\n",
       "      <td>49</td>\n",
       "      <td>393</td>\n",
       "      <td>1</td>\n",
       "    </tr>\n",
       "    <tr>\n",
       "      <th>...</th>\n",
       "      <td>...</td>\n",
       "      <td>...</td>\n",
       "      <td>...</td>\n",
       "      <td>...</td>\n",
       "      <td>...</td>\n",
       "      <td>...</td>\n",
       "      <td>...</td>\n",
       "      <td>...</td>\n",
       "      <td>...</td>\n",
       "      <td>...</td>\n",
       "      <td>...</td>\n",
       "      <td>...</td>\n",
       "      <td>...</td>\n",
       "      <td>...</td>\n",
       "      <td>...</td>\n",
       "      <td>...</td>\n",
       "      <td>...</td>\n",
       "      <td>...</td>\n",
       "      <td>...</td>\n",
       "      <td>...</td>\n",
       "    </tr>\n",
       "    <tr>\n",
       "      <th>711</th>\n",
       "      <td>141457</td>\n",
       "      <td>Photo</td>\n",
       "      <td>2</td>\n",
       "      <td>5</td>\n",
       "      <td>3</td>\n",
       "      <td>6</td>\n",
       "      <td>0</td>\n",
       "      <td>35677</td>\n",
       "      <td>71217</td>\n",
       "      <td>3160</td>\n",
       "      <td>54</td>\n",
       "      <td>5231</td>\n",
       "      <td>28210</td>\n",
       "      <td>31073</td>\n",
       "      <td>2158</td>\n",
       "      <td>50</td>\n",
       "      <td>889</td>\n",
       "      <td>79</td>\n",
       "      <td>1018</td>\n",
       "      <td>1</td>\n",
       "    </tr>\n",
       "    <tr>\n",
       "      <th>712</th>\n",
       "      <td>112566</td>\n",
       "      <td>Photo</td>\n",
       "      <td>3</td>\n",
       "      <td>12</td>\n",
       "      <td>3</td>\n",
       "      <td>8</td>\n",
       "      <td>1</td>\n",
       "      <td>45025</td>\n",
       "      <td>50479</td>\n",
       "      <td>1043</td>\n",
       "      <td>3335</td>\n",
       "      <td>3224</td>\n",
       "      <td>32796</td>\n",
       "      <td>20391</td>\n",
       "      <td>260</td>\n",
       "      <td>19</td>\n",
       "      <td>636</td>\n",
       "      <td>79</td>\n",
       "      <td>734</td>\n",
       "      <td>1</td>\n",
       "    </tr>\n",
       "    <tr>\n",
       "      <th>713</th>\n",
       "      <td>124315</td>\n",
       "      <td>Photo</td>\n",
       "      <td>2</td>\n",
       "      <td>9</td>\n",
       "      <td>4</td>\n",
       "      <td>6</td>\n",
       "      <td>1</td>\n",
       "      <td>18994</td>\n",
       "      <td>99683</td>\n",
       "      <td>758</td>\n",
       "      <td>1633</td>\n",
       "      <td>5178</td>\n",
       "      <td>66787</td>\n",
       "      <td>28780</td>\n",
       "      <td>1759</td>\n",
       "      <td>49</td>\n",
       "      <td>690</td>\n",
       "      <td>68</td>\n",
       "      <td>807</td>\n",
       "      <td>1</td>\n",
       "    </tr>\n",
       "    <tr>\n",
       "      <th>714</th>\n",
       "      <td>114475</td>\n",
       "      <td>Photo</td>\n",
       "      <td>1</td>\n",
       "      <td>3</td>\n",
       "      <td>6</td>\n",
       "      <td>4</td>\n",
       "      <td>1</td>\n",
       "      <td>40281</td>\n",
       "      <td>70006</td>\n",
       "      <td>2374</td>\n",
       "      <td>3505</td>\n",
       "      <td>745</td>\n",
       "      <td>17250</td>\n",
       "      <td>13776</td>\n",
       "      <td>2270</td>\n",
       "      <td>25</td>\n",
       "      <td>194</td>\n",
       "      <td>56</td>\n",
       "      <td>275</td>\n",
       "      <td>1</td>\n",
       "    </tr>\n",
       "    <tr>\n",
       "      <th>715</th>\n",
       "      <td>122191</td>\n",
       "      <td>Photo</td>\n",
       "      <td>3</td>\n",
       "      <td>10</td>\n",
       "      <td>8</td>\n",
       "      <td>1</td>\n",
       "      <td>1</td>\n",
       "      <td>55346</td>\n",
       "      <td>55360</td>\n",
       "      <td>1559</td>\n",
       "      <td>2216</td>\n",
       "      <td>6750</td>\n",
       "      <td>32813</td>\n",
       "      <td>30905</td>\n",
       "      <td>1715</td>\n",
       "      <td>21</td>\n",
       "      <td>737</td>\n",
       "      <td>75</td>\n",
       "      <td>833</td>\n",
       "      <td>1</td>\n",
       "    </tr>\n",
       "  </tbody>\n",
       "</table>\n",
       "<p>716 rows × 20 columns</p>\n",
       "</div>"
      ],
      "text/plain": [
       "     Page.total.likes    Type  Category  Post.Month  Post.Weekday  Post.Hour  \\\n",
       "0              139441   Photo         2          12             4          3   \n",
       "1              139441  Status         2          12             3         10   \n",
       "2              139441   Photo         3          12             3          3   \n",
       "3              139441   Photo         2          12             2         10   \n",
       "4              139441   Photo         2          12             2          3   \n",
       "..                ...     ...       ...         ...           ...        ...   \n",
       "711            141457   Photo         2           5             3          6   \n",
       "712            112566   Photo         3          12             3          8   \n",
       "713            124315   Photo         2           9             4          6   \n",
       "714            114475   Photo         1           3             6          4   \n",
       "715            122191   Photo         3          10             8          1   \n",
       "\n",
       "     Paid  LPost.Tot.Reach  LPost.Tot.Impressions  Lifetime.Engaged.Users  \\\n",
       "0       0             2752                   5091                     178   \n",
       "1       0            10460                  19057                    1457   \n",
       "2       0             2413                   4373                     177   \n",
       "3       1            50128                  87991                    2211   \n",
       "4       0             7244                  13594                     671   \n",
       "..    ...              ...                    ...                     ...   \n",
       "711     0            35677                  71217                    3160   \n",
       "712     1            45025                  50479                    1043   \n",
       "713     1            18994                  99683                     758   \n",
       "714     1            40281                  70006                    2374   \n",
       "715     1            55346                  55360                    1559   \n",
       "\n",
       "     LPost.Consumers  LPost.Consumptions  LPost.Liked.Page.Impressions  \\\n",
       "0                109                 159                          3078   \n",
       "1               1361                1674                         11710   \n",
       "2                113                 154                          2812   \n",
       "3                790                1119                         61027   \n",
       "4                410                 580                          6228   \n",
       "..               ...                 ...                           ...   \n",
       "711               54                5231                         28210   \n",
       "712             3335                3224                         32796   \n",
       "713             1633                5178                         66787   \n",
       "714             3505                 745                         17250   \n",
       "715             2216                6750                         32813   \n",
       "\n",
       "     LPost.Liked.Page.Reach  LPeople.Post.Like...Engange  comment  like  \\\n",
       "0                      1640                          119        4    79   \n",
       "1                      6112                         1108        5   130   \n",
       "2                      1503                          132        0    66   \n",
       "3                     32048                         1386       58  1572   \n",
       "4                      3200                          396       19   325   \n",
       "..                      ...                          ...      ...   ...   \n",
       "711                   31073                         2158       50   889   \n",
       "712                   20391                          260       19   636   \n",
       "713                   28780                         1759       49   690   \n",
       "714                   13776                         2270       25   194   \n",
       "715                   30905                         1715       21   737   \n",
       "\n",
       "     share  Total.Interactions  Clus_km  \n",
       "0       17                 100        0  \n",
       "1       29                 164        0  \n",
       "2       14                  80        0  \n",
       "3      147                1777        1  \n",
       "4       49                 393        1  \n",
       "..     ...                 ...      ...  \n",
       "711     79                1018        1  \n",
       "712     79                 734        1  \n",
       "713     68                 807        1  \n",
       "714     56                 275        1  \n",
       "715     75                 833        1  \n",
       "\n",
       "[716 rows x 20 columns]"
      ]
     },
     "execution_count": 3,
     "metadata": {},
     "output_type": "execute_result"
    }
   ],
   "source": [
    "df = pd.read_csv(\"Source/facebook_mock.csv\")\n",
    "df"
   ]
  },
  {
   "cell_type": "code",
   "execution_count": 4,
   "metadata": {},
   "outputs": [
    {
     "data": {
      "text/plain": [
       "['Page.total.likes',\n",
       " 'Type',\n",
       " 'Category',\n",
       " 'Post.Month',\n",
       " 'Post.Weekday',\n",
       " 'Post.Hour',\n",
       " 'Paid',\n",
       " 'LPost.Tot.Reach',\n",
       " 'LPost.Tot.Impressions',\n",
       " 'Lifetime.Engaged.Users',\n",
       " 'LPost.Consumers',\n",
       " 'LPost.Consumptions',\n",
       " 'LPost.Liked.Page.Impressions',\n",
       " 'LPost.Liked.Page.Reach',\n",
       " 'LPeople.Post.Like...Engange',\n",
       " 'comment',\n",
       " 'like',\n",
       " 'share',\n",
       " 'Total.Interactions',\n",
       " 'Clus_km']"
      ]
     },
     "execution_count": 4,
     "metadata": {},
     "output_type": "execute_result"
    }
   ],
   "source": [
    "list(df.columns)"
   ]
  },
  {
   "cell_type": "code",
   "execution_count": 5,
   "metadata": {},
   "outputs": [
    {
     "data": {
      "text/plain": [
       "array([[139441, 'Photo', 2, 12, 4, 3, 0, 2752, 5091, 178, 109, 159, 3078,\n",
       "        1640, 119, 4, 79, 17],\n",
       "       [139441, 'Status', 2, 12, 3, 10, 0, 10460, 19057, 1457, 1361,\n",
       "        1674, 11710, 6112, 1108, 5, 130, 29],\n",
       "       [139441, 'Photo', 3, 12, 3, 3, 0, 2413, 4373, 177, 113, 154, 2812,\n",
       "        1503, 132, 0, 66, 14],\n",
       "       [139441, 'Photo', 2, 12, 2, 10, 1, 50128, 87991, 2211, 790, 1119,\n",
       "        61027, 32048, 1386, 58, 1572, 147],\n",
       "       [139441, 'Photo', 2, 12, 2, 3, 0, 7244, 13594, 671, 410, 580,\n",
       "        6228, 3200, 396, 19, 325, 49]], dtype=object)"
      ]
     },
     "execution_count": 5,
     "metadata": {},
     "output_type": "execute_result"
    }
   ],
   "source": [
    "#Quitamos la columna con el objetivo.\n",
    "X = df[['Page.total.likes','Type','Category', 'Post.Month', 'Post.Weekday', 'Post.Hour', 'Paid',\n",
    "        'LPost.Tot.Reach', 'LPost.Tot.Impressions', 'Lifetime.Engaged.Users', 'LPost.Consumers', 'LPost.Consumptions',\n",
    "         'LPost.Liked.Page.Impressions','LPost.Liked.Page.Reach','LPeople.Post.Like...Engange', 'comment', 'like',\n",
    "         'share']].values\n",
    "X[0:5]"
   ]
  },
  {
   "cell_type": "code",
   "execution_count": 6,
   "metadata": {},
   "outputs": [],
   "source": [
    "#Reescribamos la columna Type pues tupo character\n",
    "from sklearn import preprocessing\n",
    "le_type = preprocessing.LabelEncoder()\n",
    "le_type.fit(['Photo','Status', 'Link','Video'])\n",
    "X[:,1] = le_type.transform(X[:,1]) "
   ]
  },
  {
   "cell_type": "code",
   "execution_count": 7,
   "metadata": {},
   "outputs": [
    {
     "data": {
      "text/plain": [
       "array([[139441, 1, 2, 12, 4, 3, 0, 2752, 5091, 178, 109, 159, 3078, 1640,\n",
       "        119, 4, 79, 17],\n",
       "       [139441, 2, 2, 12, 3, 10, 0, 10460, 19057, 1457, 1361, 1674,\n",
       "        11710, 6112, 1108, 5, 130, 29],\n",
       "       [139441, 1, 3, 12, 3, 3, 0, 2413, 4373, 177, 113, 154, 2812, 1503,\n",
       "        132, 0, 66, 14],\n",
       "       [139441, 1, 2, 12, 2, 10, 1, 50128, 87991, 2211, 790, 1119, 61027,\n",
       "        32048, 1386, 58, 1572, 147],\n",
       "       [139441, 1, 2, 12, 2, 3, 0, 7244, 13594, 671, 410, 580, 6228,\n",
       "        3200, 396, 19, 325, 49]], dtype=object)"
      ]
     },
     "execution_count": 7,
     "metadata": {},
     "output_type": "execute_result"
    }
   ],
   "source": [
    "X[0:5]"
   ]
  },
  {
   "cell_type": "code",
   "execution_count": 8,
   "metadata": {},
   "outputs": [
    {
     "data": {
      "text/plain": [
       "0    0\n",
       "1    0\n",
       "2    0\n",
       "3    1\n",
       "4    1\n",
       "Name: Clus_km, dtype: int64"
      ]
     },
     "execution_count": 8,
     "metadata": {},
     "output_type": "execute_result"
    }
   ],
   "source": [
    "#Ahora extraemos la variable objetivo\n",
    "y = df[\"Clus_km\"]\n",
    "y[0:5]"
   ]
  },
  {
   "cell_type": "markdown",
   "metadata": {},
   "source": [
    "# Pre-processing and features selection"
   ]
  },
  {
   "cell_type": "code",
   "execution_count": 9,
   "metadata": {},
   "outputs": [
    {
     "name": "stdout",
     "output_type": "stream",
     "text": [
      "(716, 19) (716, 1)\n"
     ]
    }
   ],
   "source": [
    "# Assign the data to X and y\n",
    "\n",
    "X = df[['Page.total.likes','Type', 'Category', 'Post.Month', 'Post.Weekday', 'Post.Hour', 'Paid', 'LPost.Tot.Reach',\n",
    "         'LPost.Tot.Impressions',  'Lifetime.Engaged.Users', 'LPost.Consumers', 'LPost.Consumptions', 'LPost.Liked.Page.Impressions',\n",
    "         'LPost.Liked.Page.Reach', 'LPeople.Post.Like...Engange', 'comment', 'like', 'share', 'Total.Interactions', ]]\n",
    "y = df['Clus_km'].values.reshape(-1, 1)\n",
    "print(X.shape, y.shape)"
   ]
  },
  {
   "cell_type": "code",
   "execution_count": 10,
   "metadata": {},
   "outputs": [
    {
     "data": {
      "text/plain": [
       "0    0\n",
       "1    0\n",
       "2    0\n",
       "3    1\n",
       "4    1\n",
       "Name: Clus_km, dtype: int64"
      ]
     },
     "execution_count": 10,
     "metadata": {},
     "output_type": "execute_result"
    }
   ],
   "source": [
    "#Ahora extraemos la variable objetivo\n",
    "y = df[\"Clus_km\"]\n",
    "y[0:5]"
   ]
  },
  {
   "cell_type": "markdown",
   "metadata": {},
   "source": [
    "# Train and Test split"
   ]
  },
  {
   "cell_type": "code",
   "execution_count": 11,
   "metadata": {},
   "outputs": [],
   "source": [
    "# Use train_test_split to create training and testing data\n",
    "\n",
    "### BEGIN SOLUTION\n",
    "from sklearn.model_selection import train_test_split\n",
    "#X_train, X_test, y_train, y_test = train_test_split(X, y, random_state=42)\n",
    "X_trainset, X_testset, y_trainset, y_testset = train_test_split(X, y, test_size=0.3, random_state=3)"
   ]
  },
  {
   "cell_type": "code",
   "execution_count": 42,
   "metadata": {},
   "outputs": [
    {
     "data": {
      "text/html": [
       "<div>\n",
       "<style scoped>\n",
       "    .dataframe tbody tr th:only-of-type {\n",
       "        vertical-align: middle;\n",
       "    }\n",
       "\n",
       "    .dataframe tbody tr th {\n",
       "        vertical-align: top;\n",
       "    }\n",
       "\n",
       "    .dataframe thead th {\n",
       "        text-align: right;\n",
       "    }\n",
       "</style>\n",
       "<table border=\"1\" class=\"dataframe\">\n",
       "  <thead>\n",
       "    <tr style=\"text-align: right;\">\n",
       "      <th></th>\n",
       "      <th>Page.total.likes</th>\n",
       "      <th>Type</th>\n",
       "      <th>Category</th>\n",
       "      <th>Post.Month</th>\n",
       "      <th>Post.Weekday</th>\n",
       "      <th>Post.Hour</th>\n",
       "      <th>Paid</th>\n",
       "      <th>LPost.Tot.Reach</th>\n",
       "      <th>LPost.Tot.Impressions</th>\n",
       "      <th>Lifetime.Engaged.Users</th>\n",
       "      <th>LPost.Consumers</th>\n",
       "      <th>LPost.Consumptions</th>\n",
       "      <th>LPost.Liked.Page.Impressions</th>\n",
       "      <th>LPost.Liked.Page.Reach</th>\n",
       "      <th>LPeople.Post.Like...Engange</th>\n",
       "      <th>comment</th>\n",
       "      <th>like</th>\n",
       "      <th>share</th>\n",
       "      <th>Total.Interactions</th>\n",
       "    </tr>\n",
       "  </thead>\n",
       "  <tbody>\n",
       "    <tr>\n",
       "      <th>649</th>\n",
       "      <td>138263</td>\n",
       "      <td>Photo</td>\n",
       "      <td>3</td>\n",
       "      <td>5</td>\n",
       "      <td>2</td>\n",
       "      <td>5</td>\n",
       "      <td>0</td>\n",
       "      <td>24813</td>\n",
       "      <td>28265</td>\n",
       "      <td>2607</td>\n",
       "      <td>298</td>\n",
       "      <td>2409</td>\n",
       "      <td>78080</td>\n",
       "      <td>13940</td>\n",
       "      <td>1158</td>\n",
       "      <td>29</td>\n",
       "      <td>543</td>\n",
       "      <td>70</td>\n",
       "      <td>642</td>\n",
       "    </tr>\n",
       "    <tr>\n",
       "      <th>362</th>\n",
       "      <td>113028</td>\n",
       "      <td>Photo</td>\n",
       "      <td>2</td>\n",
       "      <td>4</td>\n",
       "      <td>7</td>\n",
       "      <td>3</td>\n",
       "      <td>1</td>\n",
       "      <td>5582</td>\n",
       "      <td>9903</td>\n",
       "      <td>708</td>\n",
       "      <td>620</td>\n",
       "      <td>923</td>\n",
       "      <td>6315</td>\n",
       "      <td>3422</td>\n",
       "      <td>557</td>\n",
       "      <td>2</td>\n",
       "      <td>163</td>\n",
       "      <td>35</td>\n",
       "      <td>200</td>\n",
       "    </tr>\n",
       "    <tr>\n",
       "      <th>625</th>\n",
       "      <td>107218</td>\n",
       "      <td>Photo</td>\n",
       "      <td>3</td>\n",
       "      <td>5</td>\n",
       "      <td>6</td>\n",
       "      <td>6</td>\n",
       "      <td>1</td>\n",
       "      <td>73635</td>\n",
       "      <td>193136</td>\n",
       "      <td>2514</td>\n",
       "      <td>3050</td>\n",
       "      <td>442</td>\n",
       "      <td>37209</td>\n",
       "      <td>22959</td>\n",
       "      <td>1938</td>\n",
       "      <td>32</td>\n",
       "      <td>461</td>\n",
       "      <td>91</td>\n",
       "      <td>584</td>\n",
       "    </tr>\n",
       "    <tr>\n",
       "      <th>248</th>\n",
       "      <td>129600</td>\n",
       "      <td>Photo</td>\n",
       "      <td>3</td>\n",
       "      <td>7</td>\n",
       "      <td>5</td>\n",
       "      <td>3</td>\n",
       "      <td>0</td>\n",
       "      <td>54256</td>\n",
       "      <td>82011</td>\n",
       "      <td>1620</td>\n",
       "      <td>963</td>\n",
       "      <td>1419</td>\n",
       "      <td>42128</td>\n",
       "      <td>24224</td>\n",
       "      <td>977</td>\n",
       "      <td>10</td>\n",
       "      <td>755</td>\n",
       "      <td>58</td>\n",
       "      <td>823</td>\n",
       "    </tr>\n",
       "    <tr>\n",
       "      <th>346</th>\n",
       "      <td>116435</td>\n",
       "      <td>Photo</td>\n",
       "      <td>3</td>\n",
       "      <td>5</td>\n",
       "      <td>3</td>\n",
       "      <td>7</td>\n",
       "      <td>0</td>\n",
       "      <td>18552</td>\n",
       "      <td>25542</td>\n",
       "      <td>1005</td>\n",
       "      <td>676</td>\n",
       "      <td>1021</td>\n",
       "      <td>15973</td>\n",
       "      <td>10584</td>\n",
       "      <td>676</td>\n",
       "      <td>4</td>\n",
       "      <td>400</td>\n",
       "      <td>25</td>\n",
       "      <td>429</td>\n",
       "    </tr>\n",
       "  </tbody>\n",
       "</table>\n",
       "</div>"
      ],
      "text/plain": [
       "     Page.total.likes   Type  Category  Post.Month  Post.Weekday  Post.Hour  \\\n",
       "649            138263  Photo         3           5             2          5   \n",
       "362            113028  Photo         2           4             7          3   \n",
       "625            107218  Photo         3           5             6          6   \n",
       "248            129600  Photo         3           7             5          3   \n",
       "346            116435  Photo         3           5             3          7   \n",
       "\n",
       "     Paid  LPost.Tot.Reach  LPost.Tot.Impressions  Lifetime.Engaged.Users  \\\n",
       "649     0            24813                  28265                    2607   \n",
       "362     1             5582                   9903                     708   \n",
       "625     1            73635                 193136                    2514   \n",
       "248     0            54256                  82011                    1620   \n",
       "346     0            18552                  25542                    1005   \n",
       "\n",
       "     LPost.Consumers  LPost.Consumptions  LPost.Liked.Page.Impressions  \\\n",
       "649              298                2409                         78080   \n",
       "362              620                 923                          6315   \n",
       "625             3050                 442                         37209   \n",
       "248              963                1419                         42128   \n",
       "346              676                1021                         15973   \n",
       "\n",
       "     LPost.Liked.Page.Reach  LPeople.Post.Like...Engange  comment  like  \\\n",
       "649                   13940                         1158       29   543   \n",
       "362                    3422                          557        2   163   \n",
       "625                   22959                         1938       32   461   \n",
       "248                   24224                          977       10   755   \n",
       "346                   10584                          676        4   400   \n",
       "\n",
       "     share  Total.Interactions  \n",
       "649     70                 642  \n",
       "362     35                 200  \n",
       "625     91                 584  \n",
       "248     58                 823  \n",
       "346     25                 429  "
      ]
     },
     "execution_count": 42,
     "metadata": {},
     "output_type": "execute_result"
    }
   ],
   "source": [
    "X_train.head()"
   ]
  },
  {
   "cell_type": "code",
   "execution_count": 43,
   "metadata": {},
   "outputs": [
    {
     "data": {
      "text/plain": [
       "649    1\n",
       "362    0\n",
       "625    1\n",
       "248    1\n",
       "346    0\n",
       "      ..\n",
       "71     1\n",
       "106    0\n",
       "270    0\n",
       "435    0\n",
       "102    0\n",
       "Name: Clus_km, Length: 537, dtype: int64"
      ]
     },
     "execution_count": 43,
     "metadata": {},
     "output_type": "execute_result"
    }
   ],
   "source": [
    "y_train"
   ]
  },
  {
   "cell_type": "code",
   "execution_count": 13,
   "metadata": {},
   "outputs": [
    {
     "data": {
      "text/plain": [
       "(501, 19)"
      ]
     },
     "execution_count": 13,
     "metadata": {},
     "output_type": "execute_result"
    }
   ],
   "source": [
    "X_trainset.shape"
   ]
  },
  {
   "cell_type": "code",
   "execution_count": 14,
   "metadata": {},
   "outputs": [
    {
     "data": {
      "text/plain": [
       "(501,)"
      ]
     },
     "execution_count": 14,
     "metadata": {},
     "output_type": "execute_result"
    }
   ],
   "source": [
    "y_trainset.shape"
   ]
  },
  {
   "cell_type": "code",
   "execution_count": 15,
   "metadata": {},
   "outputs": [
    {
     "data": {
      "text/plain": [
       "(215, 19)"
      ]
     },
     "execution_count": 15,
     "metadata": {},
     "output_type": "execute_result"
    }
   ],
   "source": [
    "X_testset.shape"
   ]
  },
  {
   "cell_type": "code",
   "execution_count": 16,
   "metadata": {},
   "outputs": [
    {
     "data": {
      "text/plain": [
       "(215,)"
      ]
     },
     "execution_count": 16,
     "metadata": {},
     "output_type": "execute_result"
    }
   ],
   "source": [
    "y_testset.shape"
   ]
  },
  {
   "cell_type": "markdown",
   "metadata": {},
   "source": [
    "# Build the model"
   ]
  },
  {
   "cell_type": "code",
   "execution_count": 17,
   "metadata": {},
   "outputs": [],
   "source": [
    "# Create the model using LinearRegression\n",
    "\n",
    "### BEGIN SOLUTION\n",
    "from sklearn.linear_model import LinearRegression\n",
    "df = LinearRegression()\n",
    "### END SOLUTION"
   ]
  },
  {
   "cell_type": "code",
   "execution_count": 21,
   "metadata": {},
   "outputs": [
    {
     "ename": "ValueError",
     "evalue": "could not convert string to float: 'Photo'",
     "output_type": "error",
     "traceback": [
      "\u001b[1;31m---------------------------------------------------------------------------\u001b[0m",
      "\u001b[1;31mValueError\u001b[0m                                Traceback (most recent call last)",
      "\u001b[1;32m<ipython-input-21-a9aee8a98835>\u001b[0m in \u001b[0;36m<module>\u001b[1;34m\u001b[0m\n\u001b[0;32m      2\u001b[0m \u001b[1;33m\u001b[0m\u001b[0m\n\u001b[0;32m      3\u001b[0m \u001b[1;31m### BEGIN SOLUTION\u001b[0m\u001b[1;33m\u001b[0m\u001b[1;33m\u001b[0m\u001b[1;33m\u001b[0m\u001b[0m\n\u001b[1;32m----> 4\u001b[1;33m \u001b[0mdf\u001b[0m\u001b[1;33m.\u001b[0m\u001b[0mfit\u001b[0m\u001b[1;33m(\u001b[0m\u001b[0mX_trainset\u001b[0m\u001b[1;33m,\u001b[0m \u001b[0my_trainset\u001b[0m\u001b[1;33m)\u001b[0m\u001b[1;33m\u001b[0m\u001b[1;33m\u001b[0m\u001b[0m\n\u001b[0m\u001b[0;32m      5\u001b[0m \u001b[0mtraining_score\u001b[0m \u001b[1;33m=\u001b[0m \u001b[0mdf\u001b[0m\u001b[1;33m.\u001b[0m\u001b[0mscore\u001b[0m\u001b[1;33m(\u001b[0m\u001b[0mX_trainset\u001b[0m\u001b[1;33m,\u001b[0m \u001b[0my_trainset\u001b[0m\u001b[1;33m)\u001b[0m\u001b[1;33m\u001b[0m\u001b[1;33m\u001b[0m\u001b[0m\n\u001b[0;32m      6\u001b[0m \u001b[0mtesting_score\u001b[0m \u001b[1;33m=\u001b[0m \u001b[0mdf\u001b[0m\u001b[1;33m.\u001b[0m\u001b[0mscore\u001b[0m\u001b[1;33m(\u001b[0m\u001b[0mX_testset\u001b[0m\u001b[1;33m,\u001b[0m \u001b[0my_testset\u001b[0m\u001b[1;33m)\u001b[0m\u001b[1;33m\u001b[0m\u001b[1;33m\u001b[0m\u001b[0m\n",
      "\u001b[1;32m~\\anaconda3\\lib\\site-packages\\sklearn\\linear_model\\_base.py\u001b[0m in \u001b[0;36mfit\u001b[1;34m(self, X, y, sample_weight)\u001b[0m\n\u001b[0;32m    490\u001b[0m         \u001b[0mn_jobs_\u001b[0m \u001b[1;33m=\u001b[0m \u001b[0mself\u001b[0m\u001b[1;33m.\u001b[0m\u001b[0mn_jobs\u001b[0m\u001b[1;33m\u001b[0m\u001b[1;33m\u001b[0m\u001b[0m\n\u001b[0;32m    491\u001b[0m         X, y = check_X_y(X, y, accept_sparse=['csr', 'csc', 'coo'],\n\u001b[1;32m--> 492\u001b[1;33m                          y_numeric=True, multi_output=True)\n\u001b[0m\u001b[0;32m    493\u001b[0m \u001b[1;33m\u001b[0m\u001b[0m\n\u001b[0;32m    494\u001b[0m         \u001b[1;32mif\u001b[0m \u001b[0msample_weight\u001b[0m \u001b[1;32mis\u001b[0m \u001b[1;32mnot\u001b[0m \u001b[1;32mNone\u001b[0m\u001b[1;33m:\u001b[0m\u001b[1;33m\u001b[0m\u001b[1;33m\u001b[0m\u001b[0m\n",
      "\u001b[1;32m~\\anaconda3\\lib\\site-packages\\sklearn\\utils\\validation.py\u001b[0m in \u001b[0;36mcheck_X_y\u001b[1;34m(X, y, accept_sparse, accept_large_sparse, dtype, order, copy, force_all_finite, ensure_2d, allow_nd, multi_output, ensure_min_samples, ensure_min_features, y_numeric, warn_on_dtype, estimator)\u001b[0m\n\u001b[0;32m    753\u001b[0m                     \u001b[0mensure_min_features\u001b[0m\u001b[1;33m=\u001b[0m\u001b[0mensure_min_features\u001b[0m\u001b[1;33m,\u001b[0m\u001b[1;33m\u001b[0m\u001b[1;33m\u001b[0m\u001b[0m\n\u001b[0;32m    754\u001b[0m                     \u001b[0mwarn_on_dtype\u001b[0m\u001b[1;33m=\u001b[0m\u001b[0mwarn_on_dtype\u001b[0m\u001b[1;33m,\u001b[0m\u001b[1;33m\u001b[0m\u001b[1;33m\u001b[0m\u001b[0m\n\u001b[1;32m--> 755\u001b[1;33m                     estimator=estimator)\n\u001b[0m\u001b[0;32m    756\u001b[0m     \u001b[1;32mif\u001b[0m \u001b[0mmulti_output\u001b[0m\u001b[1;33m:\u001b[0m\u001b[1;33m\u001b[0m\u001b[1;33m\u001b[0m\u001b[0m\n\u001b[0;32m    757\u001b[0m         y = check_array(y, 'csr', force_all_finite=True, ensure_2d=False,\n",
      "\u001b[1;32m~\\anaconda3\\lib\\site-packages\\sklearn\\utils\\validation.py\u001b[0m in \u001b[0;36mcheck_array\u001b[1;34m(array, accept_sparse, accept_large_sparse, dtype, order, copy, force_all_finite, ensure_2d, allow_nd, ensure_min_samples, ensure_min_features, warn_on_dtype, estimator)\u001b[0m\n\u001b[0;32m    529\u001b[0m                     \u001b[0marray\u001b[0m \u001b[1;33m=\u001b[0m \u001b[0marray\u001b[0m\u001b[1;33m.\u001b[0m\u001b[0mastype\u001b[0m\u001b[1;33m(\u001b[0m\u001b[0mdtype\u001b[0m\u001b[1;33m,\u001b[0m \u001b[0mcasting\u001b[0m\u001b[1;33m=\u001b[0m\u001b[1;34m\"unsafe\"\u001b[0m\u001b[1;33m,\u001b[0m \u001b[0mcopy\u001b[0m\u001b[1;33m=\u001b[0m\u001b[1;32mFalse\u001b[0m\u001b[1;33m)\u001b[0m\u001b[1;33m\u001b[0m\u001b[1;33m\u001b[0m\u001b[0m\n\u001b[0;32m    530\u001b[0m                 \u001b[1;32melse\u001b[0m\u001b[1;33m:\u001b[0m\u001b[1;33m\u001b[0m\u001b[1;33m\u001b[0m\u001b[0m\n\u001b[1;32m--> 531\u001b[1;33m                     \u001b[0marray\u001b[0m \u001b[1;33m=\u001b[0m \u001b[0mnp\u001b[0m\u001b[1;33m.\u001b[0m\u001b[0masarray\u001b[0m\u001b[1;33m(\u001b[0m\u001b[0marray\u001b[0m\u001b[1;33m,\u001b[0m \u001b[0morder\u001b[0m\u001b[1;33m=\u001b[0m\u001b[0morder\u001b[0m\u001b[1;33m,\u001b[0m \u001b[0mdtype\u001b[0m\u001b[1;33m=\u001b[0m\u001b[0mdtype\u001b[0m\u001b[1;33m)\u001b[0m\u001b[1;33m\u001b[0m\u001b[1;33m\u001b[0m\u001b[0m\n\u001b[0m\u001b[0;32m    532\u001b[0m             \u001b[1;32mexcept\u001b[0m \u001b[0mComplexWarning\u001b[0m\u001b[1;33m:\u001b[0m\u001b[1;33m\u001b[0m\u001b[1;33m\u001b[0m\u001b[0m\n\u001b[0;32m    533\u001b[0m                 raise ValueError(\"Complex data not supported\\n\"\n",
      "\u001b[1;32m~\\anaconda3\\lib\\site-packages\\numpy\\core\\_asarray.py\u001b[0m in \u001b[0;36masarray\u001b[1;34m(a, dtype, order)\u001b[0m\n\u001b[0;32m     83\u001b[0m \u001b[1;33m\u001b[0m\u001b[0m\n\u001b[0;32m     84\u001b[0m     \"\"\"\n\u001b[1;32m---> 85\u001b[1;33m     \u001b[1;32mreturn\u001b[0m \u001b[0marray\u001b[0m\u001b[1;33m(\u001b[0m\u001b[0ma\u001b[0m\u001b[1;33m,\u001b[0m \u001b[0mdtype\u001b[0m\u001b[1;33m,\u001b[0m \u001b[0mcopy\u001b[0m\u001b[1;33m=\u001b[0m\u001b[1;32mFalse\u001b[0m\u001b[1;33m,\u001b[0m \u001b[0morder\u001b[0m\u001b[1;33m=\u001b[0m\u001b[0morder\u001b[0m\u001b[1;33m)\u001b[0m\u001b[1;33m\u001b[0m\u001b[1;33m\u001b[0m\u001b[0m\n\u001b[0m\u001b[0;32m     86\u001b[0m \u001b[1;33m\u001b[0m\u001b[0m\n\u001b[0;32m     87\u001b[0m \u001b[1;33m\u001b[0m\u001b[0m\n",
      "\u001b[1;31mValueError\u001b[0m: could not convert string to float: 'Photo'"
     ]
    }
   ],
   "source": [
    "# Fit the model to the training data and calculate the scores for the training and testing data\n",
    "\n",
    "### BEGIN SOLUTION\n",
    "df.fit(X_trainset, y_trainset)\n",
    "training_score = df.score(X_trainset, y_trainset)\n",
    "testing_score = df.score(X_testset, y_testset)\n",
    "\n",
    "### END SOLUTION \n",
    "\n",
    "print(f\"Training Score: {training_score}\")\n",
    "print(f\"Testing Score: {testing_score}\")"
   ]
  },
  {
   "cell_type": "code",
   "execution_count": 10,
   "metadata": {},
   "outputs": [
    {
     "data": {
      "text/plain": [
       "Text(0.5, 1.0, 'Residual Plot')"
      ]
     },
     "execution_count": 10,
     "metadata": {},
     "output_type": "execute_result"
    },
    {
     "data": {
      "image/png": "[encoded data removed]",
      "text/plain": [
       "<Figure size 432x288 with 1 Axes>"
      ]
     },
     "metadata": {
      "needs_background": "light"
     },
     "output_type": "display_data"
    }
   ],
   "source": [
    "# Plot the Residuals for the Training and Testing data\n",
    "\n",
    "### BEGIN SOLUTION\n",
    "plt.scatter(linRmodel.predict(X_train), linRmodel.predict(X_train) - y_train, c=\"blue\", label=\"Training Data\")\n",
    "plt.scatter(linRmodel.predict(X_test), linRmodel.predict(X_test) - y_test, c=\"red\", label=\"Testing Data\")\n",
    "plt.legend()\n",
    "plt.hlines(y=0, xmin=y.min(), xmax=y.max())\n",
    "plt.title(\"Residual Plot\")\n",
    "### END SOLUTION"
   ]
  },
  {
   "cell_type": "code",
   "execution_count": null,
   "metadata": {},
   "outputs": [],
   "source": []
  },
  {
   "cell_type": "code",
   "execution_count": 11,
   "metadata": {},
   "outputs": [
    {
     "data": {
      "text/plain": [
       "['models/FBMLinearRegression_model.sav']"
      ]
     },
     "execution_count": 11,
     "metadata": {},
     "output_type": "execute_result"
    }
   ],
   "source": [
    "import joblib\n",
    "filename = ('models/FBMLinearRegression_model.sav')\n",
    "joblib.dump(linRmodel,filename)"
   ]
  },
  {
   "cell_type": "code",
   "execution_count": null,
   "metadata": {},
   "outputs": [],
   "source": []
  }
 ],
 "metadata": {
  "kernelspec": {
   "display_name": "Python 3",
   "language": "python",
   "name": "python3"
  },
  "language_info": {
   "codemirror_mode": {
    "name": "ipython",
    "version": 3
   },
   "file_extension": ".py",
   "mimetype": "text/x-python",
   "name": "python",
   "nbconvert_exporter": "python",
   "pygments_lexer": "ipython3",
   "version": "3.7.6"
  }
 },
 "nbformat": 4,
 "nbformat_minor": 4
}
