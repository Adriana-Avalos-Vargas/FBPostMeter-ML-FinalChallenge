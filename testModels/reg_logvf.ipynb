{
 "cells": [
  {
   "cell_type": "code",
   "execution_count": 1,
   "metadata": {},
   "outputs": [],
   "source": [
    "#Importemos las librerías necesarias\n",
    "\n",
    "import pandas as pd\n",
    "import pylab as pl\n",
    "import numpy as np\n",
    "import scipy.optimize as opt\n",
    "from sklearn import preprocessing\n",
    "%matplotlib inline \n",
    "import matplotlib.pyplot as plt"
   ]
  },
  {
   "cell_type": "code",
   "execution_count": 2,
   "metadata": {},
   "outputs": [
    {
     "data": {
      "text/html": [
       "<div>\n",
       "<style scoped>\n",
       "    .dataframe tbody tr th:only-of-type {\n",
       "        vertical-align: middle;\n",
       "    }\n",
       "\n",
       "    .dataframe tbody tr th {\n",
       "        vertical-align: top;\n",
       "    }\n",
       "\n",
       "    .dataframe thead th {\n",
       "        text-align: right;\n",
       "    }\n",
       "</style>\n",
       "<table border=\"1\" class=\"dataframe\">\n",
       "  <thead>\n",
       "    <tr style=\"text-align: right;\">\n",
       "      <th></th>\n",
       "      <th>Page.total.likes</th>\n",
       "      <th>Type</th>\n",
       "      <th>Category</th>\n",
       "      <th>Post.Month</th>\n",
       "      <th>Post.Weekday</th>\n",
       "      <th>Post.Hour</th>\n",
       "      <th>Paid</th>\n",
       "      <th>LPost.Tot.Reach</th>\n",
       "      <th>LPost.Tot.Impressions</th>\n",
       "      <th>Lifetime.Engaged.Users</th>\n",
       "      <th>LPost.Consumers</th>\n",
       "      <th>LPost.Consumptions</th>\n",
       "      <th>LPost.Liked.Page.Impressions</th>\n",
       "      <th>LPost.Liked.Page.Reach</th>\n",
       "      <th>LPeople.Post.Like...Engange</th>\n",
       "      <th>comment</th>\n",
       "      <th>like</th>\n",
       "      <th>share</th>\n",
       "      <th>Total.Interactions</th>\n",
       "      <th>Clus_km</th>\n",
       "    </tr>\n",
       "  </thead>\n",
       "  <tbody>\n",
       "    <tr>\n",
       "      <td>0</td>\n",
       "      <td>139441</td>\n",
       "      <td>Photo</td>\n",
       "      <td>2</td>\n",
       "      <td>12</td>\n",
       "      <td>4</td>\n",
       "      <td>3</td>\n",
       "      <td>0</td>\n",
       "      <td>2752</td>\n",
       "      <td>5091</td>\n",
       "      <td>178</td>\n",
       "      <td>109</td>\n",
       "      <td>159</td>\n",
       "      <td>3078</td>\n",
       "      <td>1640</td>\n",
       "      <td>119</td>\n",
       "      <td>4</td>\n",
       "      <td>79</td>\n",
       "      <td>17</td>\n",
       "      <td>100</td>\n",
       "      <td>0</td>\n",
       "    </tr>\n",
       "    <tr>\n",
       "      <td>1</td>\n",
       "      <td>139441</td>\n",
       "      <td>Status</td>\n",
       "      <td>2</td>\n",
       "      <td>12</td>\n",
       "      <td>3</td>\n",
       "      <td>10</td>\n",
       "      <td>0</td>\n",
       "      <td>10460</td>\n",
       "      <td>19057</td>\n",
       "      <td>1457</td>\n",
       "      <td>1361</td>\n",
       "      <td>1674</td>\n",
       "      <td>11710</td>\n",
       "      <td>6112</td>\n",
       "      <td>1108</td>\n",
       "      <td>5</td>\n",
       "      <td>130</td>\n",
       "      <td>29</td>\n",
       "      <td>164</td>\n",
       "      <td>0</td>\n",
       "    </tr>\n",
       "    <tr>\n",
       "      <td>2</td>\n",
       "      <td>139441</td>\n",
       "      <td>Photo</td>\n",
       "      <td>3</td>\n",
       "      <td>12</td>\n",
       "      <td>3</td>\n",
       "      <td>3</td>\n",
       "      <td>0</td>\n",
       "      <td>2413</td>\n",
       "      <td>4373</td>\n",
       "      <td>177</td>\n",
       "      <td>113</td>\n",
       "      <td>154</td>\n",
       "      <td>2812</td>\n",
       "      <td>1503</td>\n",
       "      <td>132</td>\n",
       "      <td>0</td>\n",
       "      <td>66</td>\n",
       "      <td>14</td>\n",
       "      <td>80</td>\n",
       "      <td>0</td>\n",
       "    </tr>\n",
       "    <tr>\n",
       "      <td>3</td>\n",
       "      <td>139441</td>\n",
       "      <td>Photo</td>\n",
       "      <td>2</td>\n",
       "      <td>12</td>\n",
       "      <td>2</td>\n",
       "      <td>10</td>\n",
       "      <td>1</td>\n",
       "      <td>50128</td>\n",
       "      <td>87991</td>\n",
       "      <td>2211</td>\n",
       "      <td>790</td>\n",
       "      <td>1119</td>\n",
       "      <td>61027</td>\n",
       "      <td>32048</td>\n",
       "      <td>1386</td>\n",
       "      <td>58</td>\n",
       "      <td>1572</td>\n",
       "      <td>147</td>\n",
       "      <td>1777</td>\n",
       "      <td>1</td>\n",
       "    </tr>\n",
       "    <tr>\n",
       "      <td>4</td>\n",
       "      <td>139441</td>\n",
       "      <td>Photo</td>\n",
       "      <td>2</td>\n",
       "      <td>12</td>\n",
       "      <td>2</td>\n",
       "      <td>3</td>\n",
       "      <td>0</td>\n",
       "      <td>7244</td>\n",
       "      <td>13594</td>\n",
       "      <td>671</td>\n",
       "      <td>410</td>\n",
       "      <td>580</td>\n",
       "      <td>6228</td>\n",
       "      <td>3200</td>\n",
       "      <td>396</td>\n",
       "      <td>19</td>\n",
       "      <td>325</td>\n",
       "      <td>49</td>\n",
       "      <td>393</td>\n",
       "      <td>1</td>\n",
       "    </tr>\n",
       "  </tbody>\n",
       "</table>\n",
       "</div>"
      ],
      "text/plain": [
       "   Page.total.likes    Type  Category  Post.Month  Post.Weekday  Post.Hour  \\\n",
       "0            139441   Photo         2          12             4          3   \n",
       "1            139441  Status         2          12             3         10   \n",
       "2            139441   Photo         3          12             3          3   \n",
       "3            139441   Photo         2          12             2         10   \n",
       "4            139441   Photo         2          12             2          3   \n",
       "\n",
       "   Paid  LPost.Tot.Reach  LPost.Tot.Impressions  Lifetime.Engaged.Users  \\\n",
       "0     0             2752                   5091                     178   \n",
       "1     0            10460                  19057                    1457   \n",
       "2     0             2413                   4373                     177   \n",
       "3     1            50128                  87991                    2211   \n",
       "4     0             7244                  13594                     671   \n",
       "\n",
       "   LPost.Consumers  LPost.Consumptions  LPost.Liked.Page.Impressions  \\\n",
       "0              109                 159                          3078   \n",
       "1             1361                1674                         11710   \n",
       "2              113                 154                          2812   \n",
       "3              790                1119                         61027   \n",
       "4              410                 580                          6228   \n",
       "\n",
       "   LPost.Liked.Page.Reach  LPeople.Post.Like...Engange  comment  like  share  \\\n",
       "0                    1640                          119        4    79     17   \n",
       "1                    6112                         1108        5   130     29   \n",
       "2                    1503                          132        0    66     14   \n",
       "3                   32048                         1386       58  1572    147   \n",
       "4                    3200                          396       19   325     49   \n",
       "\n",
       "   Total.Interactions  Clus_km  \n",
       "0                 100        0  \n",
       "1                 164        0  \n",
       "2                  80        0  \n",
       "3                1777        1  \n",
       "4                 393        1  "
      ]
     },
     "execution_count": 2,
     "metadata": {},
     "output_type": "execute_result"
    }
   ],
   "source": [
    "#Call the database\n",
    "\n",
    "wd = \"C:/Users/avalo/OneDrive/Documentos/tec_documentos_plataforma/facebook_work/facebook_mock.csv\"\n",
    "\n",
    "df = pd.read_csv(wd)\n",
    "df.head()"
   ]
  },
  {
   "cell_type": "code",
   "execution_count": 3,
   "metadata": {},
   "outputs": [
    {
     "data": {
      "text/plain": [
       "['Page.total.likes',\n",
       " 'Type',\n",
       " 'Category',\n",
       " 'Post.Month',\n",
       " 'Post.Weekday',\n",
       " 'Post.Hour',\n",
       " 'Paid',\n",
       " 'LPost.Tot.Reach',\n",
       " 'LPost.Tot.Impressions',\n",
       " 'Lifetime.Engaged.Users',\n",
       " 'LPost.Consumers',\n",
       " 'LPost.Consumptions',\n",
       " 'LPost.Liked.Page.Impressions',\n",
       " 'LPost.Liked.Page.Reach',\n",
       " 'LPeople.Post.Like...Engange',\n",
       " 'comment',\n",
       " 'like',\n",
       " 'share',\n",
       " 'Total.Interactions',\n",
       " 'Clus_km']"
      ]
     },
     "execution_count": 3,
     "metadata": {},
     "output_type": "execute_result"
    }
   ],
   "source": [
    "#Name of columns\n",
    "list(df.columns) "
   ]
  },
  {
   "cell_type": "code",
   "execution_count": 4,
   "metadata": {},
   "outputs": [
    {
     "data": {
      "text/plain": [
       "array([[139441, 'Photo', 2, 12, 4, 3, 0, 2752],\n",
       "       [139441, 'Status', 2, 12, 3, 10, 0, 10460],\n",
       "       [139441, 'Photo', 3, 12, 3, 3, 0, 2413],\n",
       "       [139441, 'Photo', 2, 12, 2, 10, 1, 50128],\n",
       "       [139441, 'Photo', 2, 12, 2, 3, 0, 7244]], dtype=object)"
      ]
     },
     "execution_count": 4,
     "metadata": {},
     "output_type": "execute_result"
    }
   ],
   "source": [
    "#Quitamos la columna con el objetivo.\n",
    "X = df[['Page.total.likes','Type','Category', 'Post.Month', 'Post.Weekday', 'Post.Hour', 'Paid',\n",
    "        'LPost.Tot.Reach']].values\n",
    "X[0:5]"
   ]
  },
  {
   "cell_type": "code",
   "execution_count": 5,
   "metadata": {},
   "outputs": [],
   "source": [
    "#Reescribamos la columna Type pues tupo character\n",
    "from sklearn import preprocessing\n",
    "le_type = preprocessing.LabelEncoder()\n",
    "le_type.fit(['Photo','Status', 'Link','Video'])\n",
    "X[:,1] = le_type.transform(X[:,1]) "
   ]
  },
  {
   "cell_type": "code",
   "execution_count": 6,
   "metadata": {},
   "outputs": [
    {
     "data": {
      "text/plain": [
       "array([[139441, 1, 2, 12, 4, 3, 0, 2752],\n",
       "       [139441, 2, 2, 12, 3, 10, 0, 10460],\n",
       "       [139441, 1, 3, 12, 3, 3, 0, 2413],\n",
       "       [139441, 1, 2, 12, 2, 10, 1, 50128],\n",
       "       [139441, 1, 2, 12, 2, 3, 0, 7244]], dtype=object)"
      ]
     },
     "execution_count": 6,
     "metadata": {},
     "output_type": "execute_result"
    }
   ],
   "source": [
    "X[0:5]"
   ]
  },
  {
   "cell_type": "code",
   "execution_count": 7,
   "metadata": {},
   "outputs": [
    {
     "data": {
      "text/plain": [
       "0    0\n",
       "1    0\n",
       "2    0\n",
       "3    1\n",
       "4    1\n",
       "Name: Clus_km, dtype: int64"
      ]
     },
     "execution_count": 7,
     "metadata": {},
     "output_type": "execute_result"
    }
   ],
   "source": [
    "#Ahora extraemos la variable objetivo\n",
    "y = df[\"Clus_km\"]\n",
    "y[0:5]"
   ]
  },
  {
   "cell_type": "code",
   "execution_count": 8,
   "metadata": {},
   "outputs": [],
   "source": [
    "from sklearn.model_selection import train_test_split"
   ]
  },
  {
   "cell_type": "code",
   "execution_count": 9,
   "metadata": {},
   "outputs": [],
   "source": [
    "X_trainset, X_testset, y_trainset, y_testset = train_test_split(X, y, test_size=0.3, random_state=3)"
   ]
  },
  {
   "cell_type": "code",
   "execution_count": 10,
   "metadata": {},
   "outputs": [
    {
     "data": {
      "text/plain": [
       "(501, 8)"
      ]
     },
     "execution_count": 10,
     "metadata": {},
     "output_type": "execute_result"
    }
   ],
   "source": [
    "X_trainset.shape"
   ]
  },
  {
   "cell_type": "code",
   "execution_count": 11,
   "metadata": {},
   "outputs": [
    {
     "data": {
      "text/plain": [
       "(501,)"
      ]
     },
     "execution_count": 11,
     "metadata": {},
     "output_type": "execute_result"
    }
   ],
   "source": [
    "y_trainset.shape"
   ]
  },
  {
   "cell_type": "code",
   "execution_count": 12,
   "metadata": {},
   "outputs": [
    {
     "data": {
      "text/plain": [
       "(215, 8)"
      ]
     },
     "execution_count": 12,
     "metadata": {},
     "output_type": "execute_result"
    }
   ],
   "source": [
    "X_testset.shape"
   ]
  },
  {
   "cell_type": "code",
   "execution_count": 13,
   "metadata": {},
   "outputs": [
    {
     "data": {
      "text/plain": [
       "(215,)"
      ]
     },
     "execution_count": 13,
     "metadata": {},
     "output_type": "execute_result"
    }
   ],
   "source": [
    "y_testset.shape"
   ]
  },
  {
   "cell_type": "code",
   "execution_count": 15,
   "metadata": {},
   "outputs": [
    {
     "data": {
      "text/plain": [
       "array([[ 0.98254124, -0.29022476,  0.05613374,  1.45753574, -0.02814123,\n",
       "        -1.04379008, -0.65726707, -0.76822538],\n",
       "       [ 0.98254124,  1.67016136,  0.05613374,  1.45753574, -0.53186919,\n",
       "         0.59309224, -0.65726707, -0.45569106],\n",
       "       [ 0.98254124, -0.29022476,  1.23824433,  1.45753574, -0.53186919,\n",
       "        -1.04379008, -0.65726707, -0.78197073],\n",
       "       [ 0.98254124, -0.29022476,  0.05613374,  1.45753574, -1.03559716,\n",
       "         0.59309224,  1.52145155,  1.15271726],\n",
       "       [ 0.98254124, -0.29022476,  0.05613374,  1.45753574, -1.03559716,\n",
       "        -1.04379008, -0.65726707, -0.5860894 ]])"
      ]
     },
     "execution_count": 15,
     "metadata": {},
     "output_type": "execute_result"
    }
   ],
   "source": [
    "#También normalizamos los datos\n",
    "#Importamos el modulo para normalizar datos\n",
    "from sklearn import preprocessing\n",
    "#Normalizamos las características https://scikit-learn.org/stable/modules/preprocessing.html\n",
    "my_scaler = preprocessing.StandardScaler()\n",
    "\n",
    "#Ajustamos\n",
    "my_scalerf = my_scaler.fit(X)\n",
    "\n",
    "X=my_scalerf.transform(X)\n",
    "#Pedimos que nos muestre las primeras filas\n",
    "X[0:5]"
   ]
  },
  {
   "cell_type": "code",
   "execution_count": 16,
   "metadata": {},
   "outputs": [
    {
     "name": "stdout",
     "output_type": "stream",
     "text": [
      "Conjunto de entrenamiento: (572, 8) (572,)\n",
      "Conjunto de prueba: (144, 8) (144,)\n"
     ]
    }
   ],
   "source": [
    "#Llamamos a la función train_test_split\n",
    "from sklearn.model_selection import train_test_split\n",
    "#Dividimos los datos originales, dejando el 20% de ellos como conjunto de prueba. Fijamos la semilla en 4.\n",
    "X_train, X_test, y_train, y_test = train_test_split( X, y, test_size=0.2, random_state=4)\n",
    "#Pedimos que nos muestre el tamaño del conjunto de entrenamiento y el de prueba\n",
    "print ('Conjunto de entrenamiento:', X_train.shape,  y_train.shape)\n",
    "print ('Conjunto de prueba:', X_test.shape,  y_test.shape)"
   ]
  },
  {
   "cell_type": "code",
   "execution_count": 17,
   "metadata": {},
   "outputs": [
    {
     "data": {
      "text/plain": [
       "LogisticRegression(C=0.01, class_weight=None, dual=False, fit_intercept=True,\n",
       "                   intercept_scaling=1, l1_ratio=None, max_iter=100,\n",
       "                   multi_class='warn', n_jobs=None, penalty='l2',\n",
       "                   random_state=None, solver='liblinear', tol=0.0001, verbose=0,\n",
       "                   warm_start=False)"
      ]
     },
     "execution_count": 17,
     "metadata": {},
     "output_type": "execute_result"
    }
   ],
   "source": [
    "#Llamamos a las librerías con las respectivas funciones que se usaran en esta y las subsecuentes secciones\n",
    "from sklearn.linear_model import LogisticRegression\n",
    "from sklearn.metrics import confusion_matrix\n",
    "\n",
    "#Creamos el objeto de regresión lineal y lo ajustamos con el conjunto de entrenamiento.\n",
    "LR = LogisticRegression(C=0.01, solver='liblinear').fit(X_train,y_train)\n",
    "LR"
   ]
  },
  {
   "cell_type": "code",
   "execution_count": 18,
   "metadata": {},
   "outputs": [
    {
     "data": {
      "text/plain": [
       "array([0, 0, 0, 1, 1, 0, 1, 0, 0, 0, 0, 0, 1, 1, 1, 0, 0, 1, 0, 0, 1, 0,\n",
       "       1, 1, 0, 0, 1, 0, 0, 1, 0, 1, 0, 1, 0, 0, 1, 1, 0, 0, 1, 0, 0, 1,\n",
       "       0, 0, 1, 1, 0, 0, 0, 0, 1, 1, 0, 0, 0, 0, 0, 0, 0, 0, 0, 1, 1, 1,\n",
       "       1, 0, 0, 1, 1, 0, 0, 0, 1, 0, 0, 1, 0, 0, 0, 0, 1, 0, 0, 1, 1, 0,\n",
       "       1, 0, 0, 0, 0, 0, 0, 0, 0, 0, 0, 0, 1, 0, 0, 1, 0, 0, 0, 0, 0, 0,\n",
       "       0, 0, 0, 0, 0, 1, 0, 1, 1, 0, 1, 0, 1, 0, 0, 0, 1, 0, 1, 0, 0, 0,\n",
       "       1, 0, 0, 1, 1, 0, 0, 0, 0, 0, 1, 0], dtype=int64)"
      ]
     },
     "execution_count": 18,
     "metadata": {},
     "output_type": "execute_result"
    }
   ],
   "source": [
    "#Realizamos una predicción usando el conjunto de prueba:\n",
    "yhat = LR.predict(X_test)\n",
    "yhat"
   ]
  },
  {
   "cell_type": "code",
   "execution_count": 19,
   "metadata": {},
   "outputs": [
    {
     "data": {
      "text/plain": [
       "array([[0.53201832, 0.46798168],\n",
       "       [0.58138212, 0.41861788],\n",
       "       [0.59154585, 0.40845415],\n",
       "       [0.14155199, 0.85844801],\n",
       "       [0.48336043, 0.51663957],\n",
       "       [0.62156199, 0.37843801],\n",
       "       [0.3158324 , 0.6841676 ],\n",
       "       [0.72959119, 0.27040881],\n",
       "       [0.59858619, 0.40141381],\n",
       "       [0.6232627 , 0.3767373 ],\n",
       "       [0.64355577, 0.35644423],\n",
       "       [0.66408929, 0.33591071],\n",
       "       [0.43723201, 0.56276799],\n",
       "       [0.21949651, 0.78050349],\n",
       "       [0.34118361, 0.65881639],\n",
       "       [0.51672475, 0.48327525],\n",
       "       [0.68216808, 0.31783192],\n",
       "       [0.22027589, 0.77972411],\n",
       "       [0.70150911, 0.29849089],\n",
       "       [0.77988499, 0.22011501],\n",
       "       [0.40590471, 0.59409529],\n",
       "       [0.59144156, 0.40855844],\n",
       "       [0.4307739 , 0.5692261 ],\n",
       "       [0.1262049 , 0.8737951 ],\n",
       "       [0.63953796, 0.36046204],\n",
       "       [0.8116361 , 0.1883639 ],\n",
       "       [0.41218326, 0.58781674],\n",
       "       [0.65801078, 0.34198922],\n",
       "       [0.74453092, 0.25546908],\n",
       "       [0.31416248, 0.68583752],\n",
       "       [0.67612373, 0.32387627],\n",
       "       [0.453027  , 0.546973  ],\n",
       "       [0.78395817, 0.21604183],\n",
       "       [0.43918145, 0.56081855],\n",
       "       [0.75962656, 0.24037344],\n",
       "       [0.75482512, 0.24517488],\n",
       "       [0.4881276 , 0.5118724 ],\n",
       "       [0.28121362, 0.71878638],\n",
       "       [0.68055918, 0.31944082],\n",
       "       [0.64701444, 0.35298556],\n",
       "       [0.34125753, 0.65874247],\n",
       "       [0.70304616, 0.29695384],\n",
       "       [0.52235402, 0.47764598],\n",
       "       [0.46886888, 0.53113112],\n",
       "       [0.70226454, 0.29773546],\n",
       "       [0.73564363, 0.26435637],\n",
       "       [0.33026704, 0.66973296],\n",
       "       [0.15289502, 0.84710498],\n",
       "       [0.67004217, 0.32995783],\n",
       "       [0.68166363, 0.31833637],\n",
       "       [0.75296599, 0.24703401],\n",
       "       [0.70080378, 0.29919622],\n",
       "       [0.18946834, 0.81053166],\n",
       "       [0.42360501, 0.57639499],\n",
       "       [0.68316046, 0.31683954],\n",
       "       [0.5087804 , 0.4912196 ],\n",
       "       [0.77482334, 0.22517666],\n",
       "       [0.64796513, 0.35203487],\n",
       "       [0.7069866 , 0.2930134 ],\n",
       "       [0.69175412, 0.30824588],\n",
       "       [0.72822714, 0.27177286],\n",
       "       [0.66416693, 0.33583307],\n",
       "       [0.80027029, 0.19972971],\n",
       "       [0.38727493, 0.61272507],\n",
       "       [0.32785159, 0.67214841],\n",
       "       [0.49909683, 0.50090317],\n",
       "       [0.48282862, 0.51717138],\n",
       "       [0.7746161 , 0.2253839 ],\n",
       "       [0.69193288, 0.30806712],\n",
       "       [0.33544354, 0.66455646],\n",
       "       [0.40331388, 0.59668612],\n",
       "       [0.69363594, 0.30636406],\n",
       "       [0.70662095, 0.29337905],\n",
       "       [0.50918396, 0.49081604],\n",
       "       [0.34023029, 0.65976971],\n",
       "       [0.735518  , 0.264482  ],\n",
       "       [0.76871126, 0.23128874],\n",
       "       [0.33170405, 0.66829595],\n",
       "       [0.74760431, 0.25239569],\n",
       "       [0.69107532, 0.30892468],\n",
       "       [0.51901748, 0.48098252],\n",
       "       [0.51294339, 0.48705661],\n",
       "       [0.49765262, 0.50234738],\n",
       "       [0.76147895, 0.23852105],\n",
       "       [0.65406972, 0.34593028],\n",
       "       [0.499575  , 0.500425  ],\n",
       "       [0.31607186, 0.68392814],\n",
       "       [0.64180264, 0.35819736],\n",
       "       [0.46817656, 0.53182344],\n",
       "       [0.60269346, 0.39730654],\n",
       "       [0.7257284 , 0.2742716 ],\n",
       "       [0.51151622, 0.48848378],\n",
       "       [0.69356813, 0.30643187],\n",
       "       [0.62886142, 0.37113858],\n",
       "       [0.69050978, 0.30949022],\n",
       "       [0.71816227, 0.28183773],\n",
       "       [0.68213142, 0.31786858],\n",
       "       [0.77262053, 0.22737947],\n",
       "       [0.68587285, 0.31412715],\n",
       "       [0.5065136 , 0.4934864 ],\n",
       "       [0.03356993, 0.96643007],\n",
       "       [0.65348644, 0.34651356],\n",
       "       [0.73927657, 0.26072343],\n",
       "       [0.32533719, 0.67466281],\n",
       "       [0.59185385, 0.40814615],\n",
       "       [0.52659542, 0.47340458],\n",
       "       [0.67447936, 0.32552064],\n",
       "       [0.64224702, 0.35775298],\n",
       "       [0.6899863 , 0.3100137 ],\n",
       "       [0.53247215, 0.46752785],\n",
       "       [0.83892789, 0.16107211],\n",
       "       [0.81619585, 0.18380415],\n",
       "       [0.68254131, 0.31745869],\n",
       "       [0.70364692, 0.29635308],\n",
       "       [0.73225093, 0.26774907],\n",
       "       [0.45552482, 0.54447518],\n",
       "       [0.65319441, 0.34680559],\n",
       "       [0.3112141 , 0.6887859 ],\n",
       "       [0.22547495, 0.77452505],\n",
       "       [0.65533499, 0.34466501],\n",
       "       [0.29830506, 0.70169494],\n",
       "       [0.66114804, 0.33885196],\n",
       "       [0.34478752, 0.65521248],\n",
       "       [0.74559892, 0.25440108],\n",
       "       [0.55703039, 0.44296961],\n",
       "       [0.65000339, 0.34999661],\n",
       "       [0.32242606, 0.67757394],\n",
       "       [0.52765095, 0.47234905],\n",
       "       [0.33992689, 0.66007311],\n",
       "       [0.72157891, 0.27842109],\n",
       "       [0.69040605, 0.30959395],\n",
       "       [0.61991895, 0.38008105],\n",
       "       [0.48918705, 0.51081295],\n",
       "       [0.77434454, 0.22565546],\n",
       "       [0.58256066, 0.41743934],\n",
       "       [0.30575999, 0.69424001],\n",
       "       [0.40067919, 0.59932081],\n",
       "       [0.65038903, 0.34961097],\n",
       "       [0.673332  , 0.326668  ],\n",
       "       [0.68111756, 0.31888244],\n",
       "       [0.76275326, 0.23724674],\n",
       "       [0.70869389, 0.29130611],\n",
       "       [0.39400121, 0.60599879],\n",
       "       [0.66421235, 0.33578765]])"
      ]
     },
     "execution_count": 19,
     "metadata": {},
     "output_type": "execute_result"
    }
   ],
   "source": [
    "yhat_prob = LR.predict_proba(X_test)\n",
    "yhat_prob"
   ]
  },
  {
   "cell_type": "code",
   "execution_count": 20,
   "metadata": {},
   "outputs": [
    {
     "name": "stderr",
     "output_type": "stream",
     "text": [
      "C:\\anaconda\\lib\\site-packages\\sklearn\\metrics\\classification.py:635: DeprecationWarning: jaccard_similarity_score has been deprecated and replaced with jaccard_score. It will be removed in version 0.23. This implementation has surprising behavior for binary and multiclass classification tasks.\n",
      "  'and multiclass classification tasks.', DeprecationWarning)\n"
     ]
    },
    {
     "data": {
      "text/plain": [
       "0.8125"
      ]
     },
     "execution_count": 20,
     "metadata": {},
     "output_type": "execute_result"
    }
   ],
   "source": [
    "from sklearn.metrics import jaccard_similarity_score\n",
    "jaccard_similarity_score(y_test, yhat)"
   ]
  },
  {
   "cell_type": "code",
   "execution_count": 21,
   "metadata": {},
   "outputs": [],
   "source": [
    "#Importamos dos funciones para realizar el reporte de clasificaicón y la matriz de confusión.\n",
    "from sklearn.metrics import classification_report, confusion_matrix\n",
    "import itertools\n",
    "\n",
    "#Creamos una función que calcule la matriz de confusión\n",
    "def plot_confusion_matrix(cm, classes,\n",
    "                          normalize=False,\n",
    "                          title='Matriz de confusion',\n",
    "                          cmap=plt.cm.Blues):\n",
    "    \"\"\"\n",
    "    Esta función imprime y grafica la matriz de confusión.\n",
    "    Se puede aplicar la normalización declarando `normalize=True`.\n",
    "    \"\"\"\n",
    "    if normalize:\n",
    "        cm = cm.astype('float') / cm.sum(axis=1)[:, np.newaxis]\n",
    "        print(\"Matriz de confusión normalizada\")\n",
    "    else:\n",
    "        print('Matriz de confusión sin normalizar')\n",
    "\n",
    "    print(cm)\n",
    "\n",
    "    plt.imshow(cm, interpolation='nearest', cmap=cmap)\n",
    "    plt.title(title)\n",
    "    plt.colorbar()\n",
    "    tick_marks = np.arange(len(classes))\n",
    "    plt.xticks(tick_marks, classes, rotation=45)\n",
    "    plt.yticks(tick_marks, classes)\n",
    "\n",
    "    fmt = '.2f' if normalize else 'd'\n",
    "    thresh = cm.max() / 2.\n",
    "    for i, j in itertools.product(range(cm.shape[0]), range(cm.shape[1])):\n",
    "        plt.text(j, i, format(cm[i, j], fmt),\n",
    "                 horizontalalignment=\"center\",\n",
    "                 color=\"white\" if cm[i, j] > thresh else \"black\")\n",
    "\n",
    "    plt.tight_layout()\n",
    "    plt.ylabel('Etiqueta real')\n",
    "    plt.xlabel('Predicción de la etiqueta')\n"
   ]
  },
  {
   "cell_type": "code",
   "execution_count": 22,
   "metadata": {},
   "outputs": [
    {
     "name": "stdout",
     "output_type": "stream",
     "text": [
      "[[77  7]\n",
      " [20 40]]\n"
     ]
    }
   ],
   "source": [
    "#Calculamos la matriz de confusión\n",
    "print(confusion_matrix(y_test, yhat, labels=[0,1]))"
   ]
  },
  {
   "cell_type": "code",
   "execution_count": 23,
   "metadata": {},
   "outputs": [],
   "source": [
    "#Volvemos a calcular la matriz de confusión y la guardamos en cnf_matrix\n",
    "#indicadmos que deseamos una presicion de 2  la g\n",
    "cnf_matrix = confusion_matrix(y_test, yhat, labels=[1,0])\n",
    "np.set_printoptions(precision=2)"
   ]
  },
  {
   "cell_type": "code",
   "execution_count": 24,
   "metadata": {},
   "outputs": [
    {
     "name": "stdout",
     "output_type": "stream",
     "text": [
      "Matriz de confusión sin normalizar\n",
      "[[40 20]\n",
      " [ 7 77]]\n"
     ]
    },
    {
     "data": {
      "image/png": "[encoded data removed]",
      "text/plain": [
       "<Figure size 432x288 with 2 Axes>"
      ]
     },
     "metadata": {
      "needs_background": "light"
     },
     "output_type": "display_data"
    }
   ],
   "source": [
    "#Graficamos la matriz de confusión no normalizada\n",
    "plt.figure()\n",
    "plot_confusion_matrix(cnf_matrix, classes=['churn=1','churn=0'],normalize= False,  title='Matriz de Confusion')"
   ]
  },
  {
   "cell_type": "code",
   "execution_count": 25,
   "metadata": {},
   "outputs": [
    {
     "name": "stdout",
     "output_type": "stream",
     "text": [
      "              precision    recall  f1-score   support\n",
      "\n",
      "           0       0.79      0.92      0.85        84\n",
      "           1       0.85      0.67      0.75        60\n",
      "\n",
      "    accuracy                           0.81       144\n",
      "   macro avg       0.82      0.79      0.80       144\n",
      "weighted avg       0.82      0.81      0.81       144\n",
      "\n"
     ]
    }
   ],
   "source": [
    "#Pedimos los valores de la precisión y de la recuperación\n",
    "print (classification_report(y_test, yhat))"
   ]
  },
  {
   "cell_type": "code",
   "execution_count": 26,
   "metadata": {},
   "outputs": [
    {
     "data": {
      "text/plain": [
       "0.5252355838428527"
      ]
     },
     "execution_count": 26,
     "metadata": {},
     "output_type": "execute_result"
    }
   ],
   "source": [
    "from sklearn.metrics import log_loss\n",
    "log_loss(y_test, yhat_prob)"
   ]
  },
  {
   "cell_type": "code",
   "execution_count": null,
   "metadata": {},
   "outputs": [],
   "source": []
  }
 ],
 "metadata": {
  "kernelspec": {
   "display_name": "Python 3",
   "language": "python",
   "name": "python3"
  },
  "language_info": {
   "codemirror_mode": {
    "name": "ipython",
    "version": 3
   },
   "file_extension": ".py",
   "mimetype": "text/x-python",
   "name": "python",
   "nbconvert_exporter": "python",
   "pygments_lexer": "ipython3",
   "version": "3.7.4"
  }
 },
 "nbformat": 4,
 "nbformat_minor": 2
}
