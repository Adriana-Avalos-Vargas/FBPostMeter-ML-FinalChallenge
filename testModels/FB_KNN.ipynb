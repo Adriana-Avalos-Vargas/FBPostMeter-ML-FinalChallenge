{
 "cells": [
  {
   "cell_type": "code",
   "execution_count": 1,
   "metadata": {},
   "outputs": [],
   "source": [
    "#Importemos las librerías necesarias\n",
    "\n",
    "import pandas as pd\n",
    "import pylab as pl\n",
    "import numpy as np\n",
    "import scipy.optimize as opt\n",
    "from sklearn import preprocessing\n",
    "%matplotlib inline \n",
    "import matplotlib.pyplot as plt"
   ]
  },
  {
   "cell_type": "code",
   "execution_count": 2,
   "metadata": {},
   "outputs": [
    {
     "data": {
      "text/html": [
       "<div>\n",
       "<style scoped>\n",
       "    .dataframe tbody tr th:only-of-type {\n",
       "        vertical-align: middle;\n",
       "    }\n",
       "\n",
       "    .dataframe tbody tr th {\n",
       "        vertical-align: top;\n",
       "    }\n",
       "\n",
       "    .dataframe thead th {\n",
       "        text-align: right;\n",
       "    }\n",
       "</style>\n",
       "<table border=\"1\" class=\"dataframe\">\n",
       "  <thead>\n",
       "    <tr style=\"text-align: right;\">\n",
       "      <th></th>\n",
       "      <th>Page.total.likes</th>\n",
       "      <th>Type</th>\n",
       "      <th>Category</th>\n",
       "      <th>Post.Month</th>\n",
       "      <th>Post.Weekday</th>\n",
       "      <th>Post.Hour</th>\n",
       "      <th>Paid</th>\n",
       "      <th>LPost.Tot.Reach</th>\n",
       "      <th>LPost.Tot.Impressions</th>\n",
       "      <th>Lifetime.Engaged.Users</th>\n",
       "      <th>LPost.Consumers</th>\n",
       "      <th>LPost.Consumptions</th>\n",
       "      <th>LPost.Liked.Page.Impressions</th>\n",
       "      <th>LPost.Liked.Page.Reach</th>\n",
       "      <th>LPeople.Post.Like...Engange</th>\n",
       "      <th>comment</th>\n",
       "      <th>like</th>\n",
       "      <th>share</th>\n",
       "      <th>Total.Interactions</th>\n",
       "      <th>Clus_km</th>\n",
       "    </tr>\n",
       "  </thead>\n",
       "  <tbody>\n",
       "    <tr>\n",
       "      <th>0</th>\n",
       "      <td>139441</td>\n",
       "      <td>Photo</td>\n",
       "      <td>2</td>\n",
       "      <td>12</td>\n",
       "      <td>4</td>\n",
       "      <td>3</td>\n",
       "      <td>0</td>\n",
       "      <td>2752</td>\n",
       "      <td>5091</td>\n",
       "      <td>178</td>\n",
       "      <td>109</td>\n",
       "      <td>159</td>\n",
       "      <td>3078</td>\n",
       "      <td>1640</td>\n",
       "      <td>119</td>\n",
       "      <td>4</td>\n",
       "      <td>79</td>\n",
       "      <td>17</td>\n",
       "      <td>100</td>\n",
       "      <td>0</td>\n",
       "    </tr>\n",
       "    <tr>\n",
       "      <th>1</th>\n",
       "      <td>139441</td>\n",
       "      <td>Status</td>\n",
       "      <td>2</td>\n",
       "      <td>12</td>\n",
       "      <td>3</td>\n",
       "      <td>10</td>\n",
       "      <td>0</td>\n",
       "      <td>10460</td>\n",
       "      <td>19057</td>\n",
       "      <td>1457</td>\n",
       "      <td>1361</td>\n",
       "      <td>1674</td>\n",
       "      <td>11710</td>\n",
       "      <td>6112</td>\n",
       "      <td>1108</td>\n",
       "      <td>5</td>\n",
       "      <td>130</td>\n",
       "      <td>29</td>\n",
       "      <td>164</td>\n",
       "      <td>0</td>\n",
       "    </tr>\n",
       "    <tr>\n",
       "      <th>2</th>\n",
       "      <td>139441</td>\n",
       "      <td>Photo</td>\n",
       "      <td>3</td>\n",
       "      <td>12</td>\n",
       "      <td>3</td>\n",
       "      <td>3</td>\n",
       "      <td>0</td>\n",
       "      <td>2413</td>\n",
       "      <td>4373</td>\n",
       "      <td>177</td>\n",
       "      <td>113</td>\n",
       "      <td>154</td>\n",
       "      <td>2812</td>\n",
       "      <td>1503</td>\n",
       "      <td>132</td>\n",
       "      <td>0</td>\n",
       "      <td>66</td>\n",
       "      <td>14</td>\n",
       "      <td>80</td>\n",
       "      <td>0</td>\n",
       "    </tr>\n",
       "    <tr>\n",
       "      <th>3</th>\n",
       "      <td>139441</td>\n",
       "      <td>Photo</td>\n",
       "      <td>2</td>\n",
       "      <td>12</td>\n",
       "      <td>2</td>\n",
       "      <td>10</td>\n",
       "      <td>1</td>\n",
       "      <td>50128</td>\n",
       "      <td>87991</td>\n",
       "      <td>2211</td>\n",
       "      <td>790</td>\n",
       "      <td>1119</td>\n",
       "      <td>61027</td>\n",
       "      <td>32048</td>\n",
       "      <td>1386</td>\n",
       "      <td>58</td>\n",
       "      <td>1572</td>\n",
       "      <td>147</td>\n",
       "      <td>1777</td>\n",
       "      <td>1</td>\n",
       "    </tr>\n",
       "    <tr>\n",
       "      <th>4</th>\n",
       "      <td>139441</td>\n",
       "      <td>Photo</td>\n",
       "      <td>2</td>\n",
       "      <td>12</td>\n",
       "      <td>2</td>\n",
       "      <td>3</td>\n",
       "      <td>0</td>\n",
       "      <td>7244</td>\n",
       "      <td>13594</td>\n",
       "      <td>671</td>\n",
       "      <td>410</td>\n",
       "      <td>580</td>\n",
       "      <td>6228</td>\n",
       "      <td>3200</td>\n",
       "      <td>396</td>\n",
       "      <td>19</td>\n",
       "      <td>325</td>\n",
       "      <td>49</td>\n",
       "      <td>393</td>\n",
       "      <td>1</td>\n",
       "    </tr>\n",
       "  </tbody>\n",
       "</table>\n",
       "</div>"
      ],
      "text/plain": [
       "   Page.total.likes    Type  Category  Post.Month  Post.Weekday  Post.Hour  \\\n",
       "0            139441   Photo         2          12             4          3   \n",
       "1            139441  Status         2          12             3         10   \n",
       "2            139441   Photo         3          12             3          3   \n",
       "3            139441   Photo         2          12             2         10   \n",
       "4            139441   Photo         2          12             2          3   \n",
       "\n",
       "   Paid  LPost.Tot.Reach  LPost.Tot.Impressions  Lifetime.Engaged.Users  \\\n",
       "0     0             2752                   5091                     178   \n",
       "1     0            10460                  19057                    1457   \n",
       "2     0             2413                   4373                     177   \n",
       "3     1            50128                  87991                    2211   \n",
       "4     0             7244                  13594                     671   \n",
       "\n",
       "   LPost.Consumers  LPost.Consumptions  LPost.Liked.Page.Impressions  \\\n",
       "0              109                 159                          3078   \n",
       "1             1361                1674                         11710   \n",
       "2              113                 154                          2812   \n",
       "3              790                1119                         61027   \n",
       "4              410                 580                          6228   \n",
       "\n",
       "   LPost.Liked.Page.Reach  LPeople.Post.Like...Engange  comment  like  share  \\\n",
       "0                    1640                          119        4    79     17   \n",
       "1                    6112                         1108        5   130     29   \n",
       "2                    1503                          132        0    66     14   \n",
       "3                   32048                         1386       58  1572    147   \n",
       "4                    3200                          396       19   325     49   \n",
       "\n",
       "   Total.Interactions  Clus_km  \n",
       "0                 100        0  \n",
       "1                 164        0  \n",
       "2                  80        0  \n",
       "3                1777        1  \n",
       "4                 393        1  "
      ]
     },
     "execution_count": 2,
     "metadata": {},
     "output_type": "execute_result"
    }
   ],
   "source": [
    "#Call the database\n",
    "\n",
    "wd = \"facebook_mock.csv\"\n",
    "\n",
    "df = pd.read_csv(wd)\n",
    "df.head()"
   ]
  },
  {
   "cell_type": "code",
   "execution_count": 3,
   "metadata": {},
   "outputs": [
    {
     "data": {
      "text/plain": [
       "['Page.total.likes',\n",
       " 'Type',\n",
       " 'Category',\n",
       " 'Post.Month',\n",
       " 'Post.Weekday',\n",
       " 'Post.Hour',\n",
       " 'Paid',\n",
       " 'LPost.Tot.Reach',\n",
       " 'LPost.Tot.Impressions',\n",
       " 'Lifetime.Engaged.Users',\n",
       " 'LPost.Consumers',\n",
       " 'LPost.Consumptions',\n",
       " 'LPost.Liked.Page.Impressions',\n",
       " 'LPost.Liked.Page.Reach',\n",
       " 'LPeople.Post.Like...Engange',\n",
       " 'comment',\n",
       " 'like',\n",
       " 'share',\n",
       " 'Total.Interactions',\n",
       " 'Clus_km']"
      ]
     },
     "execution_count": 3,
     "metadata": {},
     "output_type": "execute_result"
    }
   ],
   "source": [
    "#Name of columns\n",
    "list(df.columns) "
   ]
  },
  {
   "cell_type": "code",
   "execution_count": 4,
   "metadata": {},
   "outputs": [
    {
     "data": {
      "text/plain": [
       "array([[139441, 'Photo', 2, 12, 4, 3, 0, 2752, 5091, 178, 109, 159, 3078,\n",
       "        1640, 119, 4, 79, 17],\n",
       "       [139441, 'Status', 2, 12, 3, 10, 0, 10460, 19057, 1457, 1361,\n",
       "        1674, 11710, 6112, 1108, 5, 130, 29],\n",
       "       [139441, 'Photo', 3, 12, 3, 3, 0, 2413, 4373, 177, 113, 154, 2812,\n",
       "        1503, 132, 0, 66, 14],\n",
       "       [139441, 'Photo', 2, 12, 2, 10, 1, 50128, 87991, 2211, 790, 1119,\n",
       "        61027, 32048, 1386, 58, 1572, 147],\n",
       "       [139441, 'Photo', 2, 12, 2, 3, 0, 7244, 13594, 671, 410, 580,\n",
       "        6228, 3200, 396, 19, 325, 49]], dtype=object)"
      ]
     },
     "execution_count": 4,
     "metadata": {},
     "output_type": "execute_result"
    }
   ],
   "source": [
    "#Quitamos la columna con el objetivo.\n",
    "X = df[['Page.total.likes','Type','Category', 'Post.Month', 'Post.Weekday', 'Post.Hour', 'Paid',\n",
    "        'LPost.Tot.Reach', 'LPost.Tot.Impressions', 'Lifetime.Engaged.Users', 'LPost.Consumers', 'LPost.Consumptions',\n",
    "         'LPost.Liked.Page.Impressions',\n",
    "         'LPost.Liked.Page.Reach',\n",
    "         'LPeople.Post.Like...Engange', 'comment', 'like', 'share']].values\n",
    "X[0:5]"
   ]
  },
  {
   "cell_type": "code",
   "execution_count": 5,
   "metadata": {},
   "outputs": [],
   "source": [
    "#Reescribamos la columna Type pues tupo character\n",
    "from sklearn import preprocessing\n",
    "le_type = preprocessing.LabelEncoder()\n",
    "le_type.fit(['Photo','Status', 'Link','Video'])\n",
    "X[:,1] = le_type.transform(X[:,1]) "
   ]
  },
  {
   "cell_type": "code",
   "execution_count": 6,
   "metadata": {},
   "outputs": [
    {
     "data": {
      "text/plain": [
       "array([[139441, 1, 2, 12, 4, 3, 0, 2752, 5091, 178, 109, 159, 3078, 1640,\n",
       "        119, 4, 79, 17],\n",
       "       [139441, 2, 2, 12, 3, 10, 0, 10460, 19057, 1457, 1361, 1674,\n",
       "        11710, 6112, 1108, 5, 130, 29],\n",
       "       [139441, 1, 3, 12, 3, 3, 0, 2413, 4373, 177, 113, 154, 2812, 1503,\n",
       "        132, 0, 66, 14],\n",
       "       [139441, 1, 2, 12, 2, 10, 1, 50128, 87991, 2211, 790, 1119, 61027,\n",
       "        32048, 1386, 58, 1572, 147],\n",
       "       [139441, 1, 2, 12, 2, 3, 0, 7244, 13594, 671, 410, 580, 6228,\n",
       "        3200, 396, 19, 325, 49]], dtype=object)"
      ]
     },
     "execution_count": 6,
     "metadata": {},
     "output_type": "execute_result"
    }
   ],
   "source": [
    "X[0:5]"
   ]
  },
  {
   "cell_type": "code",
   "execution_count": 7,
   "metadata": {},
   "outputs": [
    {
     "data": {
      "text/plain": [
       "0    0\n",
       "1    0\n",
       "2    0\n",
       "3    1\n",
       "4    1\n",
       "Name: Clus_km, dtype: int64"
      ]
     },
     "execution_count": 7,
     "metadata": {},
     "output_type": "execute_result"
    }
   ],
   "source": [
    "#Ahora extraemos la variable objetivo\n",
    "y = df[\"Clus_km\"]\n",
    "y[0:5]"
   ]
  },
  {
   "cell_type": "code",
   "execution_count": 8,
   "metadata": {},
   "outputs": [],
   "source": [
    "from sklearn.model_selection import train_test_split"
   ]
  },
  {
   "cell_type": "code",
   "execution_count": 9,
   "metadata": {},
   "outputs": [],
   "source": [
    "X_trainset, X_testset, y_trainset, y_testset = train_test_split(X, y, test_size=0.3, random_state=3)"
   ]
  },
  {
   "cell_type": "code",
   "execution_count": 10,
   "metadata": {},
   "outputs": [
    {
     "data": {
      "text/plain": [
       "(501, 18)"
      ]
     },
     "execution_count": 10,
     "metadata": {},
     "output_type": "execute_result"
    }
   ],
   "source": [
    "X_trainset.shape"
   ]
  },
  {
   "cell_type": "code",
   "execution_count": 11,
   "metadata": {},
   "outputs": [
    {
     "data": {
      "text/plain": [
       "(501,)"
      ]
     },
     "execution_count": 11,
     "metadata": {},
     "output_type": "execute_result"
    }
   ],
   "source": [
    "y_trainset.shape"
   ]
  },
  {
   "cell_type": "code",
   "execution_count": 12,
   "metadata": {},
   "outputs": [
    {
     "data": {
      "text/plain": [
       "(215, 18)"
      ]
     },
     "execution_count": 12,
     "metadata": {},
     "output_type": "execute_result"
    }
   ],
   "source": [
    "X_testset.shape"
   ]
  },
  {
   "cell_type": "code",
   "execution_count": 13,
   "metadata": {},
   "outputs": [
    {
     "data": {
      "text/plain": [
       "(215,)"
      ]
     },
     "execution_count": 13,
     "metadata": {},
     "output_type": "execute_result"
    }
   ],
   "source": [
    "y_testset.shape"
   ]
  },
  {
   "cell_type": "code",
   "execution_count": 14,
   "metadata": {},
   "outputs": [
    {
     "data": {
      "text/plain": [
       "array([[ 0.98254124, -0.29022476,  0.05613374,  1.45753574, -0.02814123,\n",
       "        -1.04379008, -0.65726707, -0.76822538, -0.54084906, -1.01307798,\n",
       "        -0.95092883, -0.84252927, -0.41381179, -0.90220583, -1.01016851,\n",
       "        -0.5707645 , -0.69402799, -0.69395929],\n",
       "       [ 0.98254124,  1.67016136,  0.05613374,  1.45753574, -0.53186919,\n",
       "         0.59309224, -0.65726707, -0.45569106, -0.32768621,  0.24812423,\n",
       "         0.36596176, -0.04253662, -0.23019671, -0.41230384,  0.52233707,\n",
       "        -0.49736877, -0.52650115, -0.32022868],\n",
       "       [ 0.98254124, -0.29022476,  1.23824433,  1.45753574, -0.53186919,\n",
       "        -1.04379008, -0.65726707, -0.78197073, -0.55180788, -1.01406407,\n",
       "        -0.94672151, -0.84516951, -0.41946999, -0.91721401, -0.99002435,\n",
       "        -0.86434738, -0.73673091, -0.78739195],\n",
       "       [ 0.98254124, -0.29022476,  0.05613374,  1.45753574, -1.03559716,\n",
       "         0.59309224,  1.52145155,  1.15271726,  0.72445241,  0.99163202,\n",
       "        -0.23463291, -0.33560324,  0.81884693,  2.42895243,  0.95311215,\n",
       "         3.39260448,  4.2102383 ,  3.35478904],\n",
       "       [ 0.98254124, -0.29022476,  0.05613374,  1.45753574, -1.03559716,\n",
       "        -1.04379008, -0.65726707, -0.5860894 , -0.4110679 , -0.52693827,\n",
       "        -0.63432813, -0.62022108, -0.34680675, -0.73130979, -0.58094298,\n",
       "         0.53017133,  0.11404268,  0.30265568]])"
      ]
     },
     "execution_count": 14,
     "metadata": {},
     "output_type": "execute_result"
    }
   ],
   "source": [
    "#También normalizamos los datos\n",
    "#Importamos el modulo para normalizar datos\n",
    "from sklearn import preprocessing\n",
    "#Normalizamos las características https://scikit-learn.org/stable/modules/preprocessing.html\n",
    "my_scaler = preprocessing.StandardScaler()\n",
    "\n",
    "#Ajustamos\n",
    "X = my_scaler.fit(X).transform(X)\n",
    "#Pedimos que nos muestre las primeras filas\n",
    "X[0:5]"
   ]
  },
  {
   "cell_type": "code",
   "execution_count": 17,
   "metadata": {},
   "outputs": [
    {
     "name": "stdout",
     "output_type": "stream",
     "text": [
      "Conjunto de entrenamiento: (572, 18) (572,)\n",
      "Conjunto de prueba: (144, 18) (144,)\n"
     ]
    }
   ],
   "source": [
    "#Llamamos a la función train_test_split\n",
    "from sklearn.model_selection import train_test_split\n",
    "#Dividimos los datos originales, dejando el 20% de ellos como conjunto de prueba. Fijamos la semilla en 4.\n",
    "X_train, X_test, y_train, y_test = train_test_split( X, y, test_size=0.2, random_state=4)\n",
    "#Pedimos que nos muestre el tamaño del conjunto de entrenamiento y el de prueba\n",
    "print ('Conjunto de entrenamiento:', X_train.shape,  y_train.shape)\n",
    "print ('Conjunto de prueba:', X_test.shape,  y_test.shape)"
   ]
  },
  {
   "cell_type": "code",
   "execution_count": 20,
   "metadata": {},
   "outputs": [
    {
     "name": "stdout",
     "output_type": "stream",
     "text": [
      "k: 1, Train/Test Score: 1.000/0.931\n",
      "k: 3, Train/Test Score: 0.967/0.924\n",
      "k: 5, Train/Test Score: 0.955/0.944\n",
      "k: 7, Train/Test Score: 0.949/0.938\n",
      "k: 9, Train/Test Score: 0.948/0.944\n",
      "k: 11, Train/Test Score: 0.949/0.931\n",
      "k: 13, Train/Test Score: 0.944/0.924\n",
      "k: 15, Train/Test Score: 0.948/0.931\n",
      "k: 17, Train/Test Score: 0.948/0.931\n",
      "k: 19, Train/Test Score: 0.942/0.931\n"
     ]
    },
    {
     "data": {
      "image/png": "[encoded data removed]",
      "text/plain": [
       "<Figure size 432x288 with 1 Axes>"
      ]
     },
     "metadata": {
      "needs_background": "light"
     },
     "output_type": "display_data"
    }
   ],
   "source": [
    "from sklearn.neighbors import KNeighborsClassifier\n",
    "\n",
    "# Loop through different k values to see which has the highest accuracy\n",
    "# Note: We only use odd numbers because we don't want any ties\n",
    "train_scores = []\n",
    "test_scores = []\n",
    "for k in range(1, 20, 2):\n",
    "    knn = KNeighborsClassifier(n_neighbors=k)\n",
    "    knn.fit(X_train, y_train)\n",
    "    train_score = knn.score(X_train, y_train)\n",
    "    test_score = knn.score(X_test, y_test)\n",
    "    train_scores.append(train_score)\n",
    "    test_scores.append(test_score)\n",
    "    print(f\"k: {k}, Train/Test Score: {train_score:.3f}/{test_score:.3f}\")\n",
    "    \n",
    "    \n",
    "plt.plot(range(1, 20, 2), train_scores, marker='o',label=\"Train Score\")\n",
    "plt.plot(range(1, 20, 2), test_scores, marker=\"x\",label=\"Test Score\")\n",
    "plt.xlabel(\"k neighbors\")\n",
    "plt.ylabel(\"Testing accuracy Score\")\n",
    "plt.legend()\n",
    "plt.show()"
   ]
  },
  {
   "cell_type": "code",
   "execution_count": 21,
   "metadata": {},
   "outputs": [
    {
     "name": "stdout",
     "output_type": "stream",
     "text": [
      "k: 1, Train/Test Score: 1.000/0.931\n",
      "k: 3, Train/Test Score: 0.967/0.924\n",
      "k: 5, Train/Test Score: 0.955/0.944\n",
      "k: 7, Train/Test Score: 0.949/0.938\n",
      "k: 9, Train/Test Score: 0.948/0.944\n",
      "k: 11, Train/Test Score: 0.949/0.931\n",
      "k: 13, Train/Test Score: 0.944/0.924\n",
      "k: 15, Train/Test Score: 0.948/0.931\n",
      "k: 17, Train/Test Score: 0.948/0.931\n",
      "k: 19, Train/Test Score: 0.942/0.931\n",
      "k: 21, Train/Test Score: 0.946/0.931\n",
      "k: 23, Train/Test Score: 0.941/0.931\n",
      "k: 25, Train/Test Score: 0.939/0.938\n",
      "k: 27, Train/Test Score: 0.937/0.931\n",
      "k: 29, Train/Test Score: 0.935/0.924\n"
     ]
    },
    {
     "data": {
      "image/png": "[encoded data removed]",
      "text/plain": [
       "<Figure size 432x288 with 1 Axes>"
      ]
     },
     "metadata": {
      "needs_background": "light"
     },
     "output_type": "display_data"
    }
   ],
   "source": [
    "train_scores = []\n",
    "test_scores = []\n",
    "for k in range(1, 30, 2):\n",
    "    knn = KNeighborsClassifier(n_neighbors=k)\n",
    "    knn.fit(X_train, y_train)\n",
    "    train_score = knn.score(X_train, y_train)\n",
    "    test_score = knn.score(X_test, y_test)\n",
    "    train_scores.append(train_score)\n",
    "    test_scores.append(test_score)\n",
    "    print(f\"k: {k}, Train/Test Score: {train_score:.3f}/{test_score:.3f}\")\n",
    "    \n",
    "    \n",
    "plt.plot(range(1, 30, 2), train_scores, marker='o',label=\"Train Score\")\n",
    "plt.plot(range(1, 30, 2), test_scores, marker=\"x\",label=\"Test Score\")\n",
    "plt.xlabel(\"k neighbors\")\n",
    "plt.ylabel(\"Testing accuracy Score\")\n",
    "plt.legend()\n",
    "plt.show()"
   ]
  },
  {
   "cell_type": "code",
   "execution_count": 27,
   "metadata": {},
   "outputs": [
    {
     "name": "stdout",
     "output_type": "stream",
     "text": [
      "k=5 Test Acc: 0.944\n"
     ]
    }
   ],
   "source": [
    "# Note that k: 3 seems to be the best choice for this dataset\n",
    "knn = KNeighborsClassifier(n_neighbors=5)\n",
    "knn.fit(X_train, y_train)\n",
    "print('k=5 Test Acc: %.3f' % knn.score(X_test, y_test))"
   ]
  },
  {
   "cell_type": "code",
   "execution_count": null,
   "metadata": {},
   "outputs": [],
   "source": []
  }
 ],
 "metadata": {
  "kernelspec": {
   "display_name": "Python 3",
   "language": "python",
   "name": "python3"
  },
  "language_info": {
   "codemirror_mode": {
    "name": "ipython",
    "version": 3
   },
   "file_extension": ".py",
   "mimetype": "text/x-python",
   "name": "python",
   "nbconvert_exporter": "python",
   "pygments_lexer": "ipython3",
   "version": "3.7.6"
  }
 },
 "nbformat": 4,
 "nbformat_minor": 2
}
